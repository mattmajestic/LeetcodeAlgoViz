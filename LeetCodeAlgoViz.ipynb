{
  "nbformat": 4,
  "nbformat_minor": 0,
  "metadata": {
    "colab": {
      "provenance": [],
      "toc_visible": true,
      "authorship_tag": "ABX9TyNfn8e7ezxpYiJbL2e68vw0",
      "include_colab_link": true
    },
    "kernelspec": {
      "name": "python3",
      "display_name": "Python 3"
    },
    "language_info": {
      "name": "python"
    }
  },
  "cells": [
    {
      "cell_type": "markdown",
      "metadata": {
        "id": "view-in-github",
        "colab_type": "text"
      },
      "source": [
        "<a href=\"https://colab.research.google.com/github/mattmajestic/LeetcodeAlgoViz/blob/main/LeetCodeAlgoViz.ipynb\" target=\"_parent\"><img src=\"https://colab.research.google.com/assets/colab-badge.svg\" alt=\"Open In Colab\"/></a>"
      ]
    },
    {
      "cell_type": "markdown",
      "source": [
        "# Basic Patterns of Leetcode 📚"
      ],
      "metadata": {
        "id": "H7LD1kk8C9TL"
      }
    },
    {
      "cell_type": "markdown",
      "source": [
        "## Binary Search 🔍"
      ],
      "metadata": {
        "id": "GKe3rxsRlLW_"
      }
    },
    {
      "cell_type": "markdown",
      "source": [
        "### Function ⚙️\n",
        "\n",
        "Basic Binary Search func of finding the mid point of the array then updating the left, right, and mid based on the direction of the data.\n",
        "\n",
        "My favorite explaination is from this [FireShip Binary Search in 100 Seconds](https://youtu.be/MFhxShGxHWc?si=x27Rcb9l5pm00JmO&t=18) when comparing opening a dictionary to the word `magic`.  You don't open the book at `A` or `Z`, realistically you go to the middle but more than likely wont hit the word magic on the same try.  If you hit `N` you turn back a little and if you are `L` you need to go forward in the Dictionary."
      ],
      "metadata": {
        "id": "yRZPOcj3hwGB"
      }
    },
    {
      "cell_type": "code",
      "source": [
        "def binary_search(arr,target):\n",
        "    left, right = 0, len(arr) - 1\n",
        "\n",
        "    while left <= right:\n",
        "        mid = (left + right) // 2\n",
        "        if arr[mid] == target:\n",
        "            return mid\n",
        "        elif arr[mid] < target:\n",
        "            left = mid + 1\n",
        "        else:\n",
        "            right = mid -1\n",
        "    return -1"
      ],
      "metadata": {
        "id": "zENlC7YIlOAC"
      },
      "execution_count": null,
      "outputs": []
    },
    {
      "cell_type": "markdown",
      "source": [
        "### Test ✅\n",
        "\n",
        "We make a sorted_array, give it a target value then see if our function works"
      ],
      "metadata": {
        "id": "gtnk7Deghq6K"
      }
    },
    {
      "cell_type": "code",
      "source": [
        "sorted_array = [1, 3, 5, 6, 7, 9, 11]\n",
        "target = 9\n",
        "result = binary_search(sorted_array, target)\n",
        "if result != -1:\n",
        "    print(f\"Target {target} found at index {result}.\")\n",
        "else:\n",
        "    print(f\"Target {target} not found in the array.\")"
      ],
      "metadata": {
        "colab": {
          "base_uri": "https://localhost:8080/"
        },
        "id": "ZIrQjthBmPT5",
        "outputId": "086926f0-22ed-4952-bef7-04345c06339f"
      },
      "execution_count": null,
      "outputs": [
        {
          "output_type": "stream",
          "name": "stdout",
          "text": [
            "Target 9 found at index 5.\n"
          ]
        }
      ]
    },
    {
      "cell_type": "markdown",
      "source": [
        "### Viz 📊\n",
        "\n",
        "Using `Plotly` to have an annimated bar chart to understand how binary search works.  We using the `binary search` algo in order to create the bar colors to demonstrate the way the algo works.  "
      ],
      "metadata": {
        "id": "X1rMHgQ_g7wK"
      }
    },
    {
      "cell_type": "code",
      "source": [
        "import plotly.graph_objects as go\n",
        "\n",
        "def binary_search_visual(arr, target):\n",
        "    frames = []\n",
        "    left, right = 0, len(arr) - 1\n",
        "\n",
        "    while left <= right:\n",
        "        mid = (left + right) // 2\n",
        "\n",
        "        colors = ['grey'] * len(arr)\n",
        "        for i in range(left, right + 1):\n",
        "            colors[i] = 'lightblue'\n",
        "        colors[mid] = 'orange'\n",
        "\n",
        "        frames.append(\n",
        "            go.Frame(\n",
        "                data=[\n",
        "                    go.Bar(x=list(range(len(arr))), y=arr, marker_color=colors)\n",
        "                ],\n",
        "                layout=go.Layout(\n",
        "                    title=f\"Binary Search for {target}: left={left}, right={right}, mid={mid}\"\n",
        "                ),\n",
        "            )\n",
        "        )\n",
        "\n",
        "        if arr[mid] == target:\n",
        "            break\n",
        "        elif arr[mid] < target:\n",
        "            left = mid + 1\n",
        "        else:\n",
        "            right = mid - 1\n",
        "\n",
        "    initial_colors = ['grey'] * len(arr)\n",
        "    fig = go.Figure(\n",
        "        data=[\n",
        "            go.Bar(x=list(range(len(arr))), y=arr, marker_color=initial_colors)\n",
        "        ],\n",
        "        layout=go.Layout(\n",
        "            title=f\"Binary Search for {target}\",\n",
        "            xaxis=dict(title=\"Index\"),\n",
        "            yaxis=dict(title=\"Value\"),\n",
        "            width=650,\n",
        "            plot_bgcolor=\"grey\",  # Background of the plot\n",
        "            paper_bgcolor=\"black\",  # Background outside the plot\n",
        "            font=dict(color=\"white\"),  # Font color for text\n",
        "            updatemenus=[\n",
        "                {\n",
        "                    \"buttons\": [\n",
        "                        {\n",
        "                            \"args\": [None, {\"frame\": {\"duration\": 1000, \"redraw\": True}, \"fromcurrent\": True}],\n",
        "                            \"label\": \"Play\",\n",
        "                            \"method\": \"animate\",\n",
        "                        },\n",
        "                        {\n",
        "                            \"args\": [[None], {\"frame\": {\"duration\": 0, \"redraw\": True}, \"mode\": \"immediate\"}],\n",
        "                            \"label\": \"Pause\",\n",
        "                            \"method\": \"animate\",\n",
        "                        },\n",
        "                    ],\n",
        "                    \"direction\": \"left\",\n",
        "                    \"pad\": {\"r\": 10, \"t\": 87},\n",
        "                    \"showactive\": False,\n",
        "                    \"type\": \"buttons\",\n",
        "                    \"x\": 0.1,\n",
        "                    \"xanchor\": \"right\",\n",
        "                    \"y\": 0,\n",
        "                    \"yanchor\": \"top\",\n",
        "                }\n",
        "            ],\n",
        "        ),\n",
        "        frames=frames,\n",
        "    )\n",
        "\n",
        "    fig.show()\n",
        "\n",
        "arr_size = 41\n",
        "sorted_array = list(range(1, arr_size, 1))\n",
        "target = int(input(f\"Select a Target in Range of 0 to {arr_size - 1}: \"))\n",
        "binary_search_visual(sorted_array, target)"
      ],
      "metadata": {
        "colab": {
          "base_uri": "https://localhost:8080/",
          "height": 560
        },
        "id": "Z12Qx80fg-qJ",
        "outputId": "1da2eb83-25b8-40d4-c1fa-1c87b9ddd437"
      },
      "execution_count": 1,
      "outputs": [
        {
          "name": "stdout",
          "output_type": "stream",
          "text": [
            "Select a Target in Range of 0 to 40: 36\n"
          ]
        },
        {
          "output_type": "display_data",
          "data": {
            "text/html": [
              "<html>\n",
              "<head><meta charset=\"utf-8\" /></head>\n",
              "<body>\n",
              "    <div>            <script src=\"https://cdnjs.cloudflare.com/ajax/libs/mathjax/2.7.5/MathJax.js?config=TeX-AMS-MML_SVG\"></script><script type=\"text/javascript\">if (window.MathJax && window.MathJax.Hub && window.MathJax.Hub.Config) {window.MathJax.Hub.Config({SVG: {font: \"STIX-Web\"}});}</script>                <script type=\"text/javascript\">window.PlotlyConfig = {MathJaxConfig: 'local'};</script>\n",
              "        <script charset=\"utf-8\" src=\"https://cdn.plot.ly/plotly-2.35.2.min.js\"></script>                <div id=\"00fceafc-4420-4f87-918b-2e7ed0eb3352\" class=\"plotly-graph-div\" style=\"height:525px; width:650px;\"></div>            <script type=\"text/javascript\">                                    window.PLOTLYENV=window.PLOTLYENV || {};                                    if (document.getElementById(\"00fceafc-4420-4f87-918b-2e7ed0eb3352\")) {                    Plotly.newPlot(                        \"00fceafc-4420-4f87-918b-2e7ed0eb3352\",                        [{\"marker\":{\"color\":[\"grey\",\"grey\",\"grey\",\"grey\",\"grey\",\"grey\",\"grey\",\"grey\",\"grey\",\"grey\",\"grey\",\"grey\",\"grey\",\"grey\",\"grey\",\"grey\",\"grey\",\"grey\",\"grey\",\"grey\",\"grey\",\"grey\",\"grey\",\"grey\",\"grey\",\"grey\",\"grey\",\"grey\",\"grey\",\"grey\",\"grey\",\"grey\",\"grey\",\"grey\",\"grey\",\"grey\",\"grey\",\"grey\",\"grey\",\"grey\"]},\"x\":[0,1,2,3,4,5,6,7,8,9,10,11,12,13,14,15,16,17,18,19,20,21,22,23,24,25,26,27,28,29,30,31,32,33,34,35,36,37,38,39],\"y\":[1,2,3,4,5,6,7,8,9,10,11,12,13,14,15,16,17,18,19,20,21,22,23,24,25,26,27,28,29,30,31,32,33,34,35,36,37,38,39,40],\"type\":\"bar\"}],                        {\"font\":{\"color\":\"white\"},\"paper_bgcolor\":\"black\",\"plot_bgcolor\":\"grey\",\"title\":{\"text\":\"Binary Search for 36\"},\"updatemenus\":[{\"buttons\":[{\"args\":[null,{\"frame\":{\"duration\":1000,\"redraw\":true},\"fromcurrent\":true}],\"label\":\"Play\",\"method\":\"animate\"},{\"args\":[[null],{\"frame\":{\"duration\":0,\"redraw\":true},\"mode\":\"immediate\"}],\"label\":\"Pause\",\"method\":\"animate\"}],\"direction\":\"left\",\"pad\":{\"r\":10,\"t\":87},\"showactive\":false,\"type\":\"buttons\",\"x\":0.1,\"xanchor\":\"right\",\"y\":0,\"yanchor\":\"top\"}],\"width\":650,\"xaxis\":{\"title\":{\"text\":\"Index\"}},\"yaxis\":{\"title\":{\"text\":\"Value\"}},\"template\":{\"data\":{\"histogram2dcontour\":[{\"type\":\"histogram2dcontour\",\"colorbar\":{\"outlinewidth\":0,\"ticks\":\"\"},\"colorscale\":[[0.0,\"#0d0887\"],[0.1111111111111111,\"#46039f\"],[0.2222222222222222,\"#7201a8\"],[0.3333333333333333,\"#9c179e\"],[0.4444444444444444,\"#bd3786\"],[0.5555555555555556,\"#d8576b\"],[0.6666666666666666,\"#ed7953\"],[0.7777777777777778,\"#fb9f3a\"],[0.8888888888888888,\"#fdca26\"],[1.0,\"#f0f921\"]]}],\"choropleth\":[{\"type\":\"choropleth\",\"colorbar\":{\"outlinewidth\":0,\"ticks\":\"\"}}],\"histogram2d\":[{\"type\":\"histogram2d\",\"colorbar\":{\"outlinewidth\":0,\"ticks\":\"\"},\"colorscale\":[[0.0,\"#0d0887\"],[0.1111111111111111,\"#46039f\"],[0.2222222222222222,\"#7201a8\"],[0.3333333333333333,\"#9c179e\"],[0.4444444444444444,\"#bd3786\"],[0.5555555555555556,\"#d8576b\"],[0.6666666666666666,\"#ed7953\"],[0.7777777777777778,\"#fb9f3a\"],[0.8888888888888888,\"#fdca26\"],[1.0,\"#f0f921\"]]}],\"heatmap\":[{\"type\":\"heatmap\",\"colorbar\":{\"outlinewidth\":0,\"ticks\":\"\"},\"colorscale\":[[0.0,\"#0d0887\"],[0.1111111111111111,\"#46039f\"],[0.2222222222222222,\"#7201a8\"],[0.3333333333333333,\"#9c179e\"],[0.4444444444444444,\"#bd3786\"],[0.5555555555555556,\"#d8576b\"],[0.6666666666666666,\"#ed7953\"],[0.7777777777777778,\"#fb9f3a\"],[0.8888888888888888,\"#fdca26\"],[1.0,\"#f0f921\"]]}],\"heatmapgl\":[{\"type\":\"heatmapgl\",\"colorbar\":{\"outlinewidth\":0,\"ticks\":\"\"},\"colorscale\":[[0.0,\"#0d0887\"],[0.1111111111111111,\"#46039f\"],[0.2222222222222222,\"#7201a8\"],[0.3333333333333333,\"#9c179e\"],[0.4444444444444444,\"#bd3786\"],[0.5555555555555556,\"#d8576b\"],[0.6666666666666666,\"#ed7953\"],[0.7777777777777778,\"#fb9f3a\"],[0.8888888888888888,\"#fdca26\"],[1.0,\"#f0f921\"]]}],\"contourcarpet\":[{\"type\":\"contourcarpet\",\"colorbar\":{\"outlinewidth\":0,\"ticks\":\"\"}}],\"contour\":[{\"type\":\"contour\",\"colorbar\":{\"outlinewidth\":0,\"ticks\":\"\"},\"colorscale\":[[0.0,\"#0d0887\"],[0.1111111111111111,\"#46039f\"],[0.2222222222222222,\"#7201a8\"],[0.3333333333333333,\"#9c179e\"],[0.4444444444444444,\"#bd3786\"],[0.5555555555555556,\"#d8576b\"],[0.6666666666666666,\"#ed7953\"],[0.7777777777777778,\"#fb9f3a\"],[0.8888888888888888,\"#fdca26\"],[1.0,\"#f0f921\"]]}],\"surface\":[{\"type\":\"surface\",\"colorbar\":{\"outlinewidth\":0,\"ticks\":\"\"},\"colorscale\":[[0.0,\"#0d0887\"],[0.1111111111111111,\"#46039f\"],[0.2222222222222222,\"#7201a8\"],[0.3333333333333333,\"#9c179e\"],[0.4444444444444444,\"#bd3786\"],[0.5555555555555556,\"#d8576b\"],[0.6666666666666666,\"#ed7953\"],[0.7777777777777778,\"#fb9f3a\"],[0.8888888888888888,\"#fdca26\"],[1.0,\"#f0f921\"]]}],\"mesh3d\":[{\"type\":\"mesh3d\",\"colorbar\":{\"outlinewidth\":0,\"ticks\":\"\"}}],\"scatter\":[{\"fillpattern\":{\"fillmode\":\"overlay\",\"size\":10,\"solidity\":0.2},\"type\":\"scatter\"}],\"parcoords\":[{\"type\":\"parcoords\",\"line\":{\"colorbar\":{\"outlinewidth\":0,\"ticks\":\"\"}}}],\"scatterpolargl\":[{\"type\":\"scatterpolargl\",\"marker\":{\"colorbar\":{\"outlinewidth\":0,\"ticks\":\"\"}}}],\"bar\":[{\"error_x\":{\"color\":\"#2a3f5f\"},\"error_y\":{\"color\":\"#2a3f5f\"},\"marker\":{\"line\":{\"color\":\"#E5ECF6\",\"width\":0.5},\"pattern\":{\"fillmode\":\"overlay\",\"size\":10,\"solidity\":0.2}},\"type\":\"bar\"}],\"scattergeo\":[{\"type\":\"scattergeo\",\"marker\":{\"colorbar\":{\"outlinewidth\":0,\"ticks\":\"\"}}}],\"scatterpolar\":[{\"type\":\"scatterpolar\",\"marker\":{\"colorbar\":{\"outlinewidth\":0,\"ticks\":\"\"}}}],\"histogram\":[{\"marker\":{\"pattern\":{\"fillmode\":\"overlay\",\"size\":10,\"solidity\":0.2}},\"type\":\"histogram\"}],\"scattergl\":[{\"type\":\"scattergl\",\"marker\":{\"colorbar\":{\"outlinewidth\":0,\"ticks\":\"\"}}}],\"scatter3d\":[{\"type\":\"scatter3d\",\"line\":{\"colorbar\":{\"outlinewidth\":0,\"ticks\":\"\"}},\"marker\":{\"colorbar\":{\"outlinewidth\":0,\"ticks\":\"\"}}}],\"scattermapbox\":[{\"type\":\"scattermapbox\",\"marker\":{\"colorbar\":{\"outlinewidth\":0,\"ticks\":\"\"}}}],\"scatterternary\":[{\"type\":\"scatterternary\",\"marker\":{\"colorbar\":{\"outlinewidth\":0,\"ticks\":\"\"}}}],\"scattercarpet\":[{\"type\":\"scattercarpet\",\"marker\":{\"colorbar\":{\"outlinewidth\":0,\"ticks\":\"\"}}}],\"carpet\":[{\"aaxis\":{\"endlinecolor\":\"#2a3f5f\",\"gridcolor\":\"white\",\"linecolor\":\"white\",\"minorgridcolor\":\"white\",\"startlinecolor\":\"#2a3f5f\"},\"baxis\":{\"endlinecolor\":\"#2a3f5f\",\"gridcolor\":\"white\",\"linecolor\":\"white\",\"minorgridcolor\":\"white\",\"startlinecolor\":\"#2a3f5f\"},\"type\":\"carpet\"}],\"table\":[{\"cells\":{\"fill\":{\"color\":\"#EBF0F8\"},\"line\":{\"color\":\"white\"}},\"header\":{\"fill\":{\"color\":\"#C8D4E3\"},\"line\":{\"color\":\"white\"}},\"type\":\"table\"}],\"barpolar\":[{\"marker\":{\"line\":{\"color\":\"#E5ECF6\",\"width\":0.5},\"pattern\":{\"fillmode\":\"overlay\",\"size\":10,\"solidity\":0.2}},\"type\":\"barpolar\"}],\"pie\":[{\"automargin\":true,\"type\":\"pie\"}]},\"layout\":{\"autotypenumbers\":\"strict\",\"colorway\":[\"#636efa\",\"#EF553B\",\"#00cc96\",\"#ab63fa\",\"#FFA15A\",\"#19d3f3\",\"#FF6692\",\"#B6E880\",\"#FF97FF\",\"#FECB52\"],\"font\":{\"color\":\"#2a3f5f\"},\"hovermode\":\"closest\",\"hoverlabel\":{\"align\":\"left\"},\"paper_bgcolor\":\"white\",\"plot_bgcolor\":\"#E5ECF6\",\"polar\":{\"bgcolor\":\"#E5ECF6\",\"angularaxis\":{\"gridcolor\":\"white\",\"linecolor\":\"white\",\"ticks\":\"\"},\"radialaxis\":{\"gridcolor\":\"white\",\"linecolor\":\"white\",\"ticks\":\"\"}},\"ternary\":{\"bgcolor\":\"#E5ECF6\",\"aaxis\":{\"gridcolor\":\"white\",\"linecolor\":\"white\",\"ticks\":\"\"},\"baxis\":{\"gridcolor\":\"white\",\"linecolor\":\"white\",\"ticks\":\"\"},\"caxis\":{\"gridcolor\":\"white\",\"linecolor\":\"white\",\"ticks\":\"\"}},\"coloraxis\":{\"colorbar\":{\"outlinewidth\":0,\"ticks\":\"\"}},\"colorscale\":{\"sequential\":[[0.0,\"#0d0887\"],[0.1111111111111111,\"#46039f\"],[0.2222222222222222,\"#7201a8\"],[0.3333333333333333,\"#9c179e\"],[0.4444444444444444,\"#bd3786\"],[0.5555555555555556,\"#d8576b\"],[0.6666666666666666,\"#ed7953\"],[0.7777777777777778,\"#fb9f3a\"],[0.8888888888888888,\"#fdca26\"],[1.0,\"#f0f921\"]],\"sequentialminus\":[[0.0,\"#0d0887\"],[0.1111111111111111,\"#46039f\"],[0.2222222222222222,\"#7201a8\"],[0.3333333333333333,\"#9c179e\"],[0.4444444444444444,\"#bd3786\"],[0.5555555555555556,\"#d8576b\"],[0.6666666666666666,\"#ed7953\"],[0.7777777777777778,\"#fb9f3a\"],[0.8888888888888888,\"#fdca26\"],[1.0,\"#f0f921\"]],\"diverging\":[[0,\"#8e0152\"],[0.1,\"#c51b7d\"],[0.2,\"#de77ae\"],[0.3,\"#f1b6da\"],[0.4,\"#fde0ef\"],[0.5,\"#f7f7f7\"],[0.6,\"#e6f5d0\"],[0.7,\"#b8e186\"],[0.8,\"#7fbc41\"],[0.9,\"#4d9221\"],[1,\"#276419\"]]},\"xaxis\":{\"gridcolor\":\"white\",\"linecolor\":\"white\",\"ticks\":\"\",\"title\":{\"standoff\":15},\"zerolinecolor\":\"white\",\"automargin\":true,\"zerolinewidth\":2},\"yaxis\":{\"gridcolor\":\"white\",\"linecolor\":\"white\",\"ticks\":\"\",\"title\":{\"standoff\":15},\"zerolinecolor\":\"white\",\"automargin\":true,\"zerolinewidth\":2},\"scene\":{\"xaxis\":{\"backgroundcolor\":\"#E5ECF6\",\"gridcolor\":\"white\",\"linecolor\":\"white\",\"showbackground\":true,\"ticks\":\"\",\"zerolinecolor\":\"white\",\"gridwidth\":2},\"yaxis\":{\"backgroundcolor\":\"#E5ECF6\",\"gridcolor\":\"white\",\"linecolor\":\"white\",\"showbackground\":true,\"ticks\":\"\",\"zerolinecolor\":\"white\",\"gridwidth\":2},\"zaxis\":{\"backgroundcolor\":\"#E5ECF6\",\"gridcolor\":\"white\",\"linecolor\":\"white\",\"showbackground\":true,\"ticks\":\"\",\"zerolinecolor\":\"white\",\"gridwidth\":2}},\"shapedefaults\":{\"line\":{\"color\":\"#2a3f5f\"}},\"annotationdefaults\":{\"arrowcolor\":\"#2a3f5f\",\"arrowhead\":0,\"arrowwidth\":1},\"geo\":{\"bgcolor\":\"white\",\"landcolor\":\"#E5ECF6\",\"subunitcolor\":\"white\",\"showland\":true,\"showlakes\":true,\"lakecolor\":\"white\"},\"title\":{\"x\":0.05},\"mapbox\":{\"style\":\"light\"}}}},                        {\"responsive\": true}                    ).then(function(){\n",
              "                            Plotly.addFrames('00fceafc-4420-4f87-918b-2e7ed0eb3352', [{\"data\":[{\"marker\":{\"color\":[\"lightblue\",\"lightblue\",\"lightblue\",\"lightblue\",\"lightblue\",\"lightblue\",\"lightblue\",\"lightblue\",\"lightblue\",\"lightblue\",\"lightblue\",\"lightblue\",\"lightblue\",\"lightblue\",\"lightblue\",\"lightblue\",\"lightblue\",\"lightblue\",\"lightblue\",\"orange\",\"lightblue\",\"lightblue\",\"lightblue\",\"lightblue\",\"lightblue\",\"lightblue\",\"lightblue\",\"lightblue\",\"lightblue\",\"lightblue\",\"lightblue\",\"lightblue\",\"lightblue\",\"lightblue\",\"lightblue\",\"lightblue\",\"lightblue\",\"lightblue\",\"lightblue\",\"lightblue\"]},\"x\":[0,1,2,3,4,5,6,7,8,9,10,11,12,13,14,15,16,17,18,19,20,21,22,23,24,25,26,27,28,29,30,31,32,33,34,35,36,37,38,39],\"y\":[1,2,3,4,5,6,7,8,9,10,11,12,13,14,15,16,17,18,19,20,21,22,23,24,25,26,27,28,29,30,31,32,33,34,35,36,37,38,39,40],\"type\":\"bar\"}],\"layout\":{\"title\":{\"text\":\"Binary Search for 36: left=0, right=39, mid=19\"}}},{\"data\":[{\"marker\":{\"color\":[\"grey\",\"grey\",\"grey\",\"grey\",\"grey\",\"grey\",\"grey\",\"grey\",\"grey\",\"grey\",\"grey\",\"grey\",\"grey\",\"grey\",\"grey\",\"grey\",\"grey\",\"grey\",\"grey\",\"grey\",\"lightblue\",\"lightblue\",\"lightblue\",\"lightblue\",\"lightblue\",\"lightblue\",\"lightblue\",\"lightblue\",\"lightblue\",\"orange\",\"lightblue\",\"lightblue\",\"lightblue\",\"lightblue\",\"lightblue\",\"lightblue\",\"lightblue\",\"lightblue\",\"lightblue\",\"lightblue\"]},\"x\":[0,1,2,3,4,5,6,7,8,9,10,11,12,13,14,15,16,17,18,19,20,21,22,23,24,25,26,27,28,29,30,31,32,33,34,35,36,37,38,39],\"y\":[1,2,3,4,5,6,7,8,9,10,11,12,13,14,15,16,17,18,19,20,21,22,23,24,25,26,27,28,29,30,31,32,33,34,35,36,37,38,39,40],\"type\":\"bar\"}],\"layout\":{\"title\":{\"text\":\"Binary Search for 36: left=20, right=39, mid=29\"}}},{\"data\":[{\"marker\":{\"color\":[\"grey\",\"grey\",\"grey\",\"grey\",\"grey\",\"grey\",\"grey\",\"grey\",\"grey\",\"grey\",\"grey\",\"grey\",\"grey\",\"grey\",\"grey\",\"grey\",\"grey\",\"grey\",\"grey\",\"grey\",\"grey\",\"grey\",\"grey\",\"grey\",\"grey\",\"grey\",\"grey\",\"grey\",\"grey\",\"grey\",\"lightblue\",\"lightblue\",\"lightblue\",\"lightblue\",\"orange\",\"lightblue\",\"lightblue\",\"lightblue\",\"lightblue\",\"lightblue\"]},\"x\":[0,1,2,3,4,5,6,7,8,9,10,11,12,13,14,15,16,17,18,19,20,21,22,23,24,25,26,27,28,29,30,31,32,33,34,35,36,37,38,39],\"y\":[1,2,3,4,5,6,7,8,9,10,11,12,13,14,15,16,17,18,19,20,21,22,23,24,25,26,27,28,29,30,31,32,33,34,35,36,37,38,39,40],\"type\":\"bar\"}],\"layout\":{\"title\":{\"text\":\"Binary Search for 36: left=30, right=39, mid=34\"}}},{\"data\":[{\"marker\":{\"color\":[\"grey\",\"grey\",\"grey\",\"grey\",\"grey\",\"grey\",\"grey\",\"grey\",\"grey\",\"grey\",\"grey\",\"grey\",\"grey\",\"grey\",\"grey\",\"grey\",\"grey\",\"grey\",\"grey\",\"grey\",\"grey\",\"grey\",\"grey\",\"grey\",\"grey\",\"grey\",\"grey\",\"grey\",\"grey\",\"grey\",\"grey\",\"grey\",\"grey\",\"grey\",\"grey\",\"lightblue\",\"lightblue\",\"orange\",\"lightblue\",\"lightblue\"]},\"x\":[0,1,2,3,4,5,6,7,8,9,10,11,12,13,14,15,16,17,18,19,20,21,22,23,24,25,26,27,28,29,30,31,32,33,34,35,36,37,38,39],\"y\":[1,2,3,4,5,6,7,8,9,10,11,12,13,14,15,16,17,18,19,20,21,22,23,24,25,26,27,28,29,30,31,32,33,34,35,36,37,38,39,40],\"type\":\"bar\"}],\"layout\":{\"title\":{\"text\":\"Binary Search for 36: left=35, right=39, mid=37\"}}},{\"data\":[{\"marker\":{\"color\":[\"grey\",\"grey\",\"grey\",\"grey\",\"grey\",\"grey\",\"grey\",\"grey\",\"grey\",\"grey\",\"grey\",\"grey\",\"grey\",\"grey\",\"grey\",\"grey\",\"grey\",\"grey\",\"grey\",\"grey\",\"grey\",\"grey\",\"grey\",\"grey\",\"grey\",\"grey\",\"grey\",\"grey\",\"grey\",\"grey\",\"grey\",\"grey\",\"grey\",\"grey\",\"grey\",\"orange\",\"lightblue\",\"grey\",\"grey\",\"grey\"]},\"x\":[0,1,2,3,4,5,6,7,8,9,10,11,12,13,14,15,16,17,18,19,20,21,22,23,24,25,26,27,28,29,30,31,32,33,34,35,36,37,38,39],\"y\":[1,2,3,4,5,6,7,8,9,10,11,12,13,14,15,16,17,18,19,20,21,22,23,24,25,26,27,28,29,30,31,32,33,34,35,36,37,38,39,40],\"type\":\"bar\"}],\"layout\":{\"title\":{\"text\":\"Binary Search for 36: left=35, right=36, mid=35\"}}}]);\n",
              "                        }).then(function(){\n",
              "                            \n",
              "var gd = document.getElementById('00fceafc-4420-4f87-918b-2e7ed0eb3352');\n",
              "var x = new MutationObserver(function (mutations, observer) {{\n",
              "        var display = window.getComputedStyle(gd).display;\n",
              "        if (!display || display === 'none') {{\n",
              "            console.log([gd, 'removed!']);\n",
              "            Plotly.purge(gd);\n",
              "            observer.disconnect();\n",
              "        }}\n",
              "}});\n",
              "\n",
              "// Listen for the removal of the full notebook cells\n",
              "var notebookContainer = gd.closest('#notebook-container');\n",
              "if (notebookContainer) {{\n",
              "    x.observe(notebookContainer, {childList: true});\n",
              "}}\n",
              "\n",
              "// Listen for the clearing of the current output cell\n",
              "var outputEl = gd.closest('.output');\n",
              "if (outputEl) {{\n",
              "    x.observe(outputEl, {childList: true});\n",
              "}}\n",
              "\n",
              "                        })                };                            </script>        </div>\n",
              "</body>\n",
              "</html>"
            ]
          },
          "metadata": {}
        }
      ]
    },
    {
      "cell_type": "markdown",
      "source": [
        "## Linked List 🔗"
      ],
      "metadata": {
        "id": "FDK2fHrEnGT_"
      }
    },
    {
      "cell_type": "markdown",
      "source": [
        "### Function ⚙️"
      ],
      "metadata": {
        "id": "4rDQukSwh6W5"
      }
    },
    {
      "cell_type": "code",
      "source": [
        "class ListNode:\n",
        "    def __init__(self, value=0, next=None):\n",
        "        self.value = value\n",
        "        self.next = next\n",
        "\n",
        "def create_linked_list(values):\n",
        "    head = ListNode(values[0])\n",
        "    current = head\n",
        "    for val in values[1:]:\n",
        "        current.next = ListNode(val)\n",
        "        current = current.next\n",
        "    return head\n",
        "\n",
        "def display_linked_list(head):\n",
        "    current = head\n",
        "    while current:\n",
        "        print(current.value, end=\" -> \")\n",
        "        current = current.next\n",
        "    print(\"None\")\n",
        "\n",
        "def merge_linked_lists(l1, l2):\n",
        "    dummy = ListNode()\n",
        "    current = dummy\n",
        "\n",
        "    while l1 and l2:\n",
        "        if l1.value < l2.value:\n",
        "            current.next = l1\n",
        "            l1 = l1.next\n",
        "        else:\n",
        "            current.next = l2\n",
        "            l2 = l2.next\n",
        "        current = current.next\n",
        "\n",
        "    current.next = l1 if l1 else l2\n",
        "    return dummy.next"
      ],
      "metadata": {
        "id": "80ns7Ul1nIHA"
      },
      "execution_count": null,
      "outputs": []
    },
    {
      "cell_type": "markdown",
      "source": [
        "### Test ✅"
      ],
      "metadata": {
        "id": "fQKFhCrWh9ig"
      }
    },
    {
      "cell_type": "code",
      "source": [
        "list1 = create_linked_list([1, 3, 7])\n",
        "list2 = create_linked_list([2, 4, 6])\n",
        "\n",
        "print(\"List 1:\")\n",
        "display_linked_list(list1)\n",
        "print(\"List 2:\")\n",
        "display_linked_list(list2)\n",
        "\n",
        "merged_head = merge_linked_lists(list1, list2)\n",
        "print(\"Merged List:\")\n",
        "display_linked_list(merged_head)"
      ],
      "metadata": {
        "colab": {
          "base_uri": "https://localhost:8080/"
        },
        "id": "Fp5To56XFf5i",
        "outputId": "9f382067-6291-41ab-b819-245145f58403"
      },
      "execution_count": null,
      "outputs": [
        {
          "output_type": "stream",
          "name": "stdout",
          "text": [
            "List 1:\n",
            "1 -> 3 -> 7 -> None\n",
            "List 2:\n",
            "2 -> 4 -> 6 -> None\n",
            "Merged List:\n",
            "1 -> 2 -> 3 -> 4 -> 6 -> 7 -> None\n"
          ]
        }
      ]
    },
    {
      "cell_type": "markdown",
      "source": [
        "### Viz 📊"
      ],
      "metadata": {
        "id": "Sz8BF7aeiKM5"
      }
    },
    {
      "cell_type": "code",
      "source": [
        "import plotly.graph_objects as go\n",
        "\n",
        "def visualize_multiple_linked_lists(list_heads, titles):\n",
        "    frames = []\n",
        "    fig = go.Figure()\n",
        "\n",
        "    for idx, (head, title) in enumerate(zip(list_heads, titles)):\n",
        "        nodes = []\n",
        "        edges = []\n",
        "        labels = []\n",
        "\n",
        "        current = head\n",
        "        node_idx = 0\n",
        "\n",
        "        while current:\n",
        "            nodes.append((node_idx, current.value))\n",
        "            if current.next:\n",
        "                edges.append((node_idx, node_idx + 1))\n",
        "            current = current.next\n",
        "            node_idx += 1\n",
        "\n",
        "        Xn, Yn = [], []\n",
        "        Xe, Ye = [], []\n",
        "\n",
        "        for i, (index, value) in enumerate(nodes):\n",
        "            Xn.append(i + idx * (len(nodes) + 2))\n",
        "            Yn.append(idx * -2)\n",
        "            labels.append(value)\n",
        "\n",
        "        for start, end in edges:\n",
        "            Xe.extend([Xn[start], Xn[end], None])\n",
        "            Ye.extend([Yn[start], Yn[end], None])\n",
        "\n",
        "        for i in range(len(nodes)):\n",
        "            frames.append(go.Frame(\n",
        "                data=[\n",
        "                    go.Scatter(\n",
        "                        x=Xn[:i+1],\n",
        "                        y=Yn[:i+1],\n",
        "                        mode='markers+text',\n",
        "                        marker=dict(size=18, color='#6175c1'),\n",
        "                        text=labels[:i+1],\n",
        "                        textposition=\"bottom center\"\n",
        "                    ),\n",
        "                    go.Scatter(\n",
        "                        x=Xe[:3*i],\n",
        "                        y=Ye[:3*i],\n",
        "                        mode='lines',\n",
        "                        line=dict(color='rgb(210,210,210)', width=1)\n",
        "                    )\n",
        "                ],\n",
        "                name=f\"{title}_step{i}\"\n",
        "            ))\n",
        "\n",
        "        fig.add_trace(go.Scatter(\n",
        "            x=Xe,\n",
        "            y=Ye,\n",
        "            mode='lines',\n",
        "            line=dict(color='rgb(210,210,210)', width=1),\n",
        "            hoverinfo='none'\n",
        "        ))\n",
        "\n",
        "        fig.add_trace(go.Scatter(\n",
        "            x=Xn,\n",
        "            y=Yn,\n",
        "            mode='markers+text',\n",
        "            name=title,\n",
        "            marker=dict(symbol='circle-dot',\n",
        "                        size=18,\n",
        "                        color='#6175c1',\n",
        "                        line=dict(color='rgb(50,50,50)', width=1)),\n",
        "            text=labels,\n",
        "            textposition=\"bottom center\",\n",
        "            hoverinfo='text',\n",
        "            opacity=0.8\n",
        "        ))\n",
        "\n",
        "\n",
        "    fig.update_layout(\n",
        "        title=\"Multiple Linked Lists\",\n",
        "        xaxis=dict(showgrid=False, zeroline=False, showticklabels=False),\n",
        "        yaxis=dict(showgrid=False, zeroline=False, showticklabels=False),\n",
        "        margin=dict(t=50, l=25, r=25, b=25),\n",
        "        plot_bgcolor=\"grey\",\n",
        "        paper_bgcolor=\"black\",\n",
        "        updatemenus=[dict(\n",
        "            type=\"buttons\",\n",
        "            showactive=False,\n",
        "            buttons=[\n",
        "                dict(label=\"Play\",\n",
        "                     method=\"animate\",\n",
        "                     args=[None, dict(frame=dict(duration=500, redraw=True), fromcurrent=True)]),\n",
        "                dict(label=\"Pause\",\n",
        "                     method=\"animate\",\n",
        "                     args=[[None], dict(frame=dict(duration=0, redraw=False), mode=\"immediate\")])\n",
        "            ]\n",
        "        )]\n",
        "    )\n",
        "\n",
        "    fig.frames = frames\n",
        "\n",
        "    fig.show()\n",
        "\n",
        "class ListNode:\n",
        "    def __init__(self, value, next=None):\n",
        "        self.value = value\n",
        "        self.next = next\n",
        "\n",
        "list1 = ListNode(1, ListNode(2, ListNode(3)))\n",
        "list2 = ListNode(4, ListNode(5))\n",
        "merged_head = ListNode(1, ListNode(2, ListNode(3, ListNode(4, ListNode(5)))))\n",
        "\n",
        "visualize_multiple_linked_lists(\n",
        "    [list1, list2, merged_head],\n",
        "    [\"List 1\", \"List 2\", \"Merged List\"]\n",
        ")\n"
      ],
      "metadata": {
        "id": "AxHAcESgiMzo",
        "colab": {
          "base_uri": "https://localhost:8080/",
          "height": 542
        },
        "outputId": "b60cdf6e-e73b-4806-e86f-0f858bef1300"
      },
      "execution_count": null,
      "outputs": [
        {
          "output_type": "display_data",
          "data": {
            "text/html": [
              "<html>\n",
              "<head><meta charset=\"utf-8\" /></head>\n",
              "<body>\n",
              "    <div>            <script src=\"https://cdnjs.cloudflare.com/ajax/libs/mathjax/2.7.5/MathJax.js?config=TeX-AMS-MML_SVG\"></script><script type=\"text/javascript\">if (window.MathJax && window.MathJax.Hub && window.MathJax.Hub.Config) {window.MathJax.Hub.Config({SVG: {font: \"STIX-Web\"}});}</script>                <script type=\"text/javascript\">window.PlotlyConfig = {MathJaxConfig: 'local'};</script>\n",
              "        <script charset=\"utf-8\" src=\"https://cdn.plot.ly/plotly-2.35.2.min.js\"></script>                <div id=\"37f0bf67-822e-4c71-aff6-cf94d8cba1ad\" class=\"plotly-graph-div\" style=\"height:525px; width:100%;\"></div>            <script type=\"text/javascript\">                                    window.PLOTLYENV=window.PLOTLYENV || {};                                    if (document.getElementById(\"37f0bf67-822e-4c71-aff6-cf94d8cba1ad\")) {                    Plotly.newPlot(                        \"37f0bf67-822e-4c71-aff6-cf94d8cba1ad\",                        [{\"hoverinfo\":\"none\",\"line\":{\"color\":\"rgb(210,210,210)\",\"width\":1},\"mode\":\"lines\",\"x\":[0,1,null,1,2,null],\"y\":[0,0,null,0,0,null],\"type\":\"scatter\"},{\"hoverinfo\":\"text\",\"marker\":{\"color\":\"#6175c1\",\"line\":{\"color\":\"rgb(50,50,50)\",\"width\":1},\"size\":18,\"symbol\":\"circle-dot\"},\"mode\":\"markers+text\",\"name\":\"List 1\",\"opacity\":0.8,\"text\":[\"1\",\"2\",\"3\"],\"textposition\":\"bottom center\",\"x\":[0,1,2],\"y\":[0,0,0],\"type\":\"scatter\"},{\"hoverinfo\":\"none\",\"line\":{\"color\":\"rgb(210,210,210)\",\"width\":1},\"mode\":\"lines\",\"x\":[4,5,null],\"y\":[-2,-2,null],\"type\":\"scatter\"},{\"hoverinfo\":\"text\",\"marker\":{\"color\":\"#6175c1\",\"line\":{\"color\":\"rgb(50,50,50)\",\"width\":1},\"size\":18,\"symbol\":\"circle-dot\"},\"mode\":\"markers+text\",\"name\":\"List 2\",\"opacity\":0.8,\"text\":[\"4\",\"5\"],\"textposition\":\"bottom center\",\"x\":[4,5],\"y\":[-2,-2],\"type\":\"scatter\"},{\"hoverinfo\":\"none\",\"line\":{\"color\":\"rgb(210,210,210)\",\"width\":1},\"mode\":\"lines\",\"x\":[14,15,null,15,16,null,16,17,null,17,18,null],\"y\":[-4,-4,null,-4,-4,null,-4,-4,null,-4,-4,null],\"type\":\"scatter\"},{\"hoverinfo\":\"text\",\"marker\":{\"color\":\"#6175c1\",\"line\":{\"color\":\"rgb(50,50,50)\",\"width\":1},\"size\":18,\"symbol\":\"circle-dot\"},\"mode\":\"markers+text\",\"name\":\"Merged List\",\"opacity\":0.8,\"text\":[\"1\",\"2\",\"3\",\"4\",\"5\"],\"textposition\":\"bottom center\",\"x\":[14,15,16,17,18],\"y\":[-4,-4,-4,-4,-4],\"type\":\"scatter\"}],                        {\"template\":{\"data\":{\"histogram2dcontour\":[{\"type\":\"histogram2dcontour\",\"colorbar\":{\"outlinewidth\":0,\"ticks\":\"\"},\"colorscale\":[[0.0,\"#0d0887\"],[0.1111111111111111,\"#46039f\"],[0.2222222222222222,\"#7201a8\"],[0.3333333333333333,\"#9c179e\"],[0.4444444444444444,\"#bd3786\"],[0.5555555555555556,\"#d8576b\"],[0.6666666666666666,\"#ed7953\"],[0.7777777777777778,\"#fb9f3a\"],[0.8888888888888888,\"#fdca26\"],[1.0,\"#f0f921\"]]}],\"choropleth\":[{\"type\":\"choropleth\",\"colorbar\":{\"outlinewidth\":0,\"ticks\":\"\"}}],\"histogram2d\":[{\"type\":\"histogram2d\",\"colorbar\":{\"outlinewidth\":0,\"ticks\":\"\"},\"colorscale\":[[0.0,\"#0d0887\"],[0.1111111111111111,\"#46039f\"],[0.2222222222222222,\"#7201a8\"],[0.3333333333333333,\"#9c179e\"],[0.4444444444444444,\"#bd3786\"],[0.5555555555555556,\"#d8576b\"],[0.6666666666666666,\"#ed7953\"],[0.7777777777777778,\"#fb9f3a\"],[0.8888888888888888,\"#fdca26\"],[1.0,\"#f0f921\"]]}],\"heatmap\":[{\"type\":\"heatmap\",\"colorbar\":{\"outlinewidth\":0,\"ticks\":\"\"},\"colorscale\":[[0.0,\"#0d0887\"],[0.1111111111111111,\"#46039f\"],[0.2222222222222222,\"#7201a8\"],[0.3333333333333333,\"#9c179e\"],[0.4444444444444444,\"#bd3786\"],[0.5555555555555556,\"#d8576b\"],[0.6666666666666666,\"#ed7953\"],[0.7777777777777778,\"#fb9f3a\"],[0.8888888888888888,\"#fdca26\"],[1.0,\"#f0f921\"]]}],\"heatmapgl\":[{\"type\":\"heatmapgl\",\"colorbar\":{\"outlinewidth\":0,\"ticks\":\"\"},\"colorscale\":[[0.0,\"#0d0887\"],[0.1111111111111111,\"#46039f\"],[0.2222222222222222,\"#7201a8\"],[0.3333333333333333,\"#9c179e\"],[0.4444444444444444,\"#bd3786\"],[0.5555555555555556,\"#d8576b\"],[0.6666666666666666,\"#ed7953\"],[0.7777777777777778,\"#fb9f3a\"],[0.8888888888888888,\"#fdca26\"],[1.0,\"#f0f921\"]]}],\"contourcarpet\":[{\"type\":\"contourcarpet\",\"colorbar\":{\"outlinewidth\":0,\"ticks\":\"\"}}],\"contour\":[{\"type\":\"contour\",\"colorbar\":{\"outlinewidth\":0,\"ticks\":\"\"},\"colorscale\":[[0.0,\"#0d0887\"],[0.1111111111111111,\"#46039f\"],[0.2222222222222222,\"#7201a8\"],[0.3333333333333333,\"#9c179e\"],[0.4444444444444444,\"#bd3786\"],[0.5555555555555556,\"#d8576b\"],[0.6666666666666666,\"#ed7953\"],[0.7777777777777778,\"#fb9f3a\"],[0.8888888888888888,\"#fdca26\"],[1.0,\"#f0f921\"]]}],\"surface\":[{\"type\":\"surface\",\"colorbar\":{\"outlinewidth\":0,\"ticks\":\"\"},\"colorscale\":[[0.0,\"#0d0887\"],[0.1111111111111111,\"#46039f\"],[0.2222222222222222,\"#7201a8\"],[0.3333333333333333,\"#9c179e\"],[0.4444444444444444,\"#bd3786\"],[0.5555555555555556,\"#d8576b\"],[0.6666666666666666,\"#ed7953\"],[0.7777777777777778,\"#fb9f3a\"],[0.8888888888888888,\"#fdca26\"],[1.0,\"#f0f921\"]]}],\"mesh3d\":[{\"type\":\"mesh3d\",\"colorbar\":{\"outlinewidth\":0,\"ticks\":\"\"}}],\"scatter\":[{\"fillpattern\":{\"fillmode\":\"overlay\",\"size\":10,\"solidity\":0.2},\"type\":\"scatter\"}],\"parcoords\":[{\"type\":\"parcoords\",\"line\":{\"colorbar\":{\"outlinewidth\":0,\"ticks\":\"\"}}}],\"scatterpolargl\":[{\"type\":\"scatterpolargl\",\"marker\":{\"colorbar\":{\"outlinewidth\":0,\"ticks\":\"\"}}}],\"bar\":[{\"error_x\":{\"color\":\"#2a3f5f\"},\"error_y\":{\"color\":\"#2a3f5f\"},\"marker\":{\"line\":{\"color\":\"#E5ECF6\",\"width\":0.5},\"pattern\":{\"fillmode\":\"overlay\",\"size\":10,\"solidity\":0.2}},\"type\":\"bar\"}],\"scattergeo\":[{\"type\":\"scattergeo\",\"marker\":{\"colorbar\":{\"outlinewidth\":0,\"ticks\":\"\"}}}],\"scatterpolar\":[{\"type\":\"scatterpolar\",\"marker\":{\"colorbar\":{\"outlinewidth\":0,\"ticks\":\"\"}}}],\"histogram\":[{\"marker\":{\"pattern\":{\"fillmode\":\"overlay\",\"size\":10,\"solidity\":0.2}},\"type\":\"histogram\"}],\"scattergl\":[{\"type\":\"scattergl\",\"marker\":{\"colorbar\":{\"outlinewidth\":0,\"ticks\":\"\"}}}],\"scatter3d\":[{\"type\":\"scatter3d\",\"line\":{\"colorbar\":{\"outlinewidth\":0,\"ticks\":\"\"}},\"marker\":{\"colorbar\":{\"outlinewidth\":0,\"ticks\":\"\"}}}],\"scattermapbox\":[{\"type\":\"scattermapbox\",\"marker\":{\"colorbar\":{\"outlinewidth\":0,\"ticks\":\"\"}}}],\"scatterternary\":[{\"type\":\"scatterternary\",\"marker\":{\"colorbar\":{\"outlinewidth\":0,\"ticks\":\"\"}}}],\"scattercarpet\":[{\"type\":\"scattercarpet\",\"marker\":{\"colorbar\":{\"outlinewidth\":0,\"ticks\":\"\"}}}],\"carpet\":[{\"aaxis\":{\"endlinecolor\":\"#2a3f5f\",\"gridcolor\":\"white\",\"linecolor\":\"white\",\"minorgridcolor\":\"white\",\"startlinecolor\":\"#2a3f5f\"},\"baxis\":{\"endlinecolor\":\"#2a3f5f\",\"gridcolor\":\"white\",\"linecolor\":\"white\",\"minorgridcolor\":\"white\",\"startlinecolor\":\"#2a3f5f\"},\"type\":\"carpet\"}],\"table\":[{\"cells\":{\"fill\":{\"color\":\"#EBF0F8\"},\"line\":{\"color\":\"white\"}},\"header\":{\"fill\":{\"color\":\"#C8D4E3\"},\"line\":{\"color\":\"white\"}},\"type\":\"table\"}],\"barpolar\":[{\"marker\":{\"line\":{\"color\":\"#E5ECF6\",\"width\":0.5},\"pattern\":{\"fillmode\":\"overlay\",\"size\":10,\"solidity\":0.2}},\"type\":\"barpolar\"}],\"pie\":[{\"automargin\":true,\"type\":\"pie\"}]},\"layout\":{\"autotypenumbers\":\"strict\",\"colorway\":[\"#636efa\",\"#EF553B\",\"#00cc96\",\"#ab63fa\",\"#FFA15A\",\"#19d3f3\",\"#FF6692\",\"#B6E880\",\"#FF97FF\",\"#FECB52\"],\"font\":{\"color\":\"#2a3f5f\"},\"hovermode\":\"closest\",\"hoverlabel\":{\"align\":\"left\"},\"paper_bgcolor\":\"white\",\"plot_bgcolor\":\"#E5ECF6\",\"polar\":{\"bgcolor\":\"#E5ECF6\",\"angularaxis\":{\"gridcolor\":\"white\",\"linecolor\":\"white\",\"ticks\":\"\"},\"radialaxis\":{\"gridcolor\":\"white\",\"linecolor\":\"white\",\"ticks\":\"\"}},\"ternary\":{\"bgcolor\":\"#E5ECF6\",\"aaxis\":{\"gridcolor\":\"white\",\"linecolor\":\"white\",\"ticks\":\"\"},\"baxis\":{\"gridcolor\":\"white\",\"linecolor\":\"white\",\"ticks\":\"\"},\"caxis\":{\"gridcolor\":\"white\",\"linecolor\":\"white\",\"ticks\":\"\"}},\"coloraxis\":{\"colorbar\":{\"outlinewidth\":0,\"ticks\":\"\"}},\"colorscale\":{\"sequential\":[[0.0,\"#0d0887\"],[0.1111111111111111,\"#46039f\"],[0.2222222222222222,\"#7201a8\"],[0.3333333333333333,\"#9c179e\"],[0.4444444444444444,\"#bd3786\"],[0.5555555555555556,\"#d8576b\"],[0.6666666666666666,\"#ed7953\"],[0.7777777777777778,\"#fb9f3a\"],[0.8888888888888888,\"#fdca26\"],[1.0,\"#f0f921\"]],\"sequentialminus\":[[0.0,\"#0d0887\"],[0.1111111111111111,\"#46039f\"],[0.2222222222222222,\"#7201a8\"],[0.3333333333333333,\"#9c179e\"],[0.4444444444444444,\"#bd3786\"],[0.5555555555555556,\"#d8576b\"],[0.6666666666666666,\"#ed7953\"],[0.7777777777777778,\"#fb9f3a\"],[0.8888888888888888,\"#fdca26\"],[1.0,\"#f0f921\"]],\"diverging\":[[0,\"#8e0152\"],[0.1,\"#c51b7d\"],[0.2,\"#de77ae\"],[0.3,\"#f1b6da\"],[0.4,\"#fde0ef\"],[0.5,\"#f7f7f7\"],[0.6,\"#e6f5d0\"],[0.7,\"#b8e186\"],[0.8,\"#7fbc41\"],[0.9,\"#4d9221\"],[1,\"#276419\"]]},\"xaxis\":{\"gridcolor\":\"white\",\"linecolor\":\"white\",\"ticks\":\"\",\"title\":{\"standoff\":15},\"zerolinecolor\":\"white\",\"automargin\":true,\"zerolinewidth\":2},\"yaxis\":{\"gridcolor\":\"white\",\"linecolor\":\"white\",\"ticks\":\"\",\"title\":{\"standoff\":15},\"zerolinecolor\":\"white\",\"automargin\":true,\"zerolinewidth\":2},\"scene\":{\"xaxis\":{\"backgroundcolor\":\"#E5ECF6\",\"gridcolor\":\"white\",\"linecolor\":\"white\",\"showbackground\":true,\"ticks\":\"\",\"zerolinecolor\":\"white\",\"gridwidth\":2},\"yaxis\":{\"backgroundcolor\":\"#E5ECF6\",\"gridcolor\":\"white\",\"linecolor\":\"white\",\"showbackground\":true,\"ticks\":\"\",\"zerolinecolor\":\"white\",\"gridwidth\":2},\"zaxis\":{\"backgroundcolor\":\"#E5ECF6\",\"gridcolor\":\"white\",\"linecolor\":\"white\",\"showbackground\":true,\"ticks\":\"\",\"zerolinecolor\":\"white\",\"gridwidth\":2}},\"shapedefaults\":{\"line\":{\"color\":\"#2a3f5f\"}},\"annotationdefaults\":{\"arrowcolor\":\"#2a3f5f\",\"arrowhead\":0,\"arrowwidth\":1},\"geo\":{\"bgcolor\":\"white\",\"landcolor\":\"#E5ECF6\",\"subunitcolor\":\"white\",\"showland\":true,\"showlakes\":true,\"lakecolor\":\"white\"},\"title\":{\"x\":0.05},\"mapbox\":{\"style\":\"light\"}}},\"xaxis\":{\"showgrid\":false,\"zeroline\":false,\"showticklabels\":false},\"yaxis\":{\"showgrid\":false,\"zeroline\":false,\"showticklabels\":false},\"margin\":{\"t\":50,\"l\":25,\"r\":25,\"b\":25},\"title\":{\"text\":\"Multiple Linked Lists\"},\"plot_bgcolor\":\"grey\",\"paper_bgcolor\":\"black\",\"updatemenus\":[{\"buttons\":[{\"args\":[null,{\"frame\":{\"duration\":500,\"redraw\":true},\"fromcurrent\":true}],\"label\":\"Play\",\"method\":\"animate\"},{\"args\":[[null],{\"frame\":{\"duration\":0,\"redraw\":false},\"mode\":\"immediate\"}],\"label\":\"Pause\",\"method\":\"animate\"}],\"showactive\":false,\"type\":\"buttons\"}]},                        {\"responsive\": true}                    ).then(function(){\n",
              "                            Plotly.addFrames('37f0bf67-822e-4c71-aff6-cf94d8cba1ad', [{\"data\":[{\"marker\":{\"color\":\"#6175c1\",\"size\":18},\"mode\":\"markers+text\",\"text\":[\"1\"],\"textposition\":\"bottom center\",\"x\":[0],\"y\":[0],\"type\":\"scatter\"},{\"line\":{\"color\":\"rgb(210,210,210)\",\"width\":1},\"mode\":\"lines\",\"x\":[],\"y\":[],\"type\":\"scatter\"}],\"name\":\"List 1_step0\"},{\"data\":[{\"marker\":{\"color\":\"#6175c1\",\"size\":18},\"mode\":\"markers+text\",\"text\":[\"1\",\"2\"],\"textposition\":\"bottom center\",\"x\":[0,1],\"y\":[0,0],\"type\":\"scatter\"},{\"line\":{\"color\":\"rgb(210,210,210)\",\"width\":1},\"mode\":\"lines\",\"x\":[0,1,null],\"y\":[0,0,null],\"type\":\"scatter\"}],\"name\":\"List 1_step1\"},{\"data\":[{\"marker\":{\"color\":\"#6175c1\",\"size\":18},\"mode\":\"markers+text\",\"text\":[\"1\",\"2\",\"3\"],\"textposition\":\"bottom center\",\"x\":[0,1,2],\"y\":[0,0,0],\"type\":\"scatter\"},{\"line\":{\"color\":\"rgb(210,210,210)\",\"width\":1},\"mode\":\"lines\",\"x\":[0,1,null,1,2,null],\"y\":[0,0,null,0,0,null],\"type\":\"scatter\"}],\"name\":\"List 1_step2\"},{\"data\":[{\"marker\":{\"color\":\"#6175c1\",\"size\":18},\"mode\":\"markers+text\",\"text\":[\"4\"],\"textposition\":\"bottom center\",\"x\":[4],\"y\":[-2],\"type\":\"scatter\"},{\"line\":{\"color\":\"rgb(210,210,210)\",\"width\":1},\"mode\":\"lines\",\"x\":[],\"y\":[],\"type\":\"scatter\"}],\"name\":\"List 2_step0\"},{\"data\":[{\"marker\":{\"color\":\"#6175c1\",\"size\":18},\"mode\":\"markers+text\",\"text\":[\"4\",\"5\"],\"textposition\":\"bottom center\",\"x\":[4,5],\"y\":[-2,-2],\"type\":\"scatter\"},{\"line\":{\"color\":\"rgb(210,210,210)\",\"width\":1},\"mode\":\"lines\",\"x\":[4,5,null],\"y\":[-2,-2,null],\"type\":\"scatter\"}],\"name\":\"List 2_step1\"},{\"data\":[{\"marker\":{\"color\":\"#6175c1\",\"size\":18},\"mode\":\"markers+text\",\"text\":[\"1\"],\"textposition\":\"bottom center\",\"x\":[14],\"y\":[-4],\"type\":\"scatter\"},{\"line\":{\"color\":\"rgb(210,210,210)\",\"width\":1},\"mode\":\"lines\",\"x\":[],\"y\":[],\"type\":\"scatter\"}],\"name\":\"Merged List_step0\"},{\"data\":[{\"marker\":{\"color\":\"#6175c1\",\"size\":18},\"mode\":\"markers+text\",\"text\":[\"1\",\"2\"],\"textposition\":\"bottom center\",\"x\":[14,15],\"y\":[-4,-4],\"type\":\"scatter\"},{\"line\":{\"color\":\"rgb(210,210,210)\",\"width\":1},\"mode\":\"lines\",\"x\":[14,15,null],\"y\":[-4,-4,null],\"type\":\"scatter\"}],\"name\":\"Merged List_step1\"},{\"data\":[{\"marker\":{\"color\":\"#6175c1\",\"size\":18},\"mode\":\"markers+text\",\"text\":[\"1\",\"2\",\"3\"],\"textposition\":\"bottom center\",\"x\":[14,15,16],\"y\":[-4,-4,-4],\"type\":\"scatter\"},{\"line\":{\"color\":\"rgb(210,210,210)\",\"width\":1},\"mode\":\"lines\",\"x\":[14,15,null,15,16,null],\"y\":[-4,-4,null,-4,-4,null],\"type\":\"scatter\"}],\"name\":\"Merged List_step2\"},{\"data\":[{\"marker\":{\"color\":\"#6175c1\",\"size\":18},\"mode\":\"markers+text\",\"text\":[\"1\",\"2\",\"3\",\"4\"],\"textposition\":\"bottom center\",\"x\":[14,15,16,17],\"y\":[-4,-4,-4,-4],\"type\":\"scatter\"},{\"line\":{\"color\":\"rgb(210,210,210)\",\"width\":1},\"mode\":\"lines\",\"x\":[14,15,null,15,16,null,16,17,null],\"y\":[-4,-4,null,-4,-4,null,-4,-4,null],\"type\":\"scatter\"}],\"name\":\"Merged List_step3\"},{\"data\":[{\"marker\":{\"color\":\"#6175c1\",\"size\":18},\"mode\":\"markers+text\",\"text\":[\"1\",\"2\",\"3\",\"4\",\"5\"],\"textposition\":\"bottom center\",\"x\":[14,15,16,17,18],\"y\":[-4,-4,-4,-4,-4],\"type\":\"scatter\"},{\"line\":{\"color\":\"rgb(210,210,210)\",\"width\":1},\"mode\":\"lines\",\"x\":[14,15,null,15,16,null,16,17,null,17,18,null],\"y\":[-4,-4,null,-4,-4,null,-4,-4,null,-4,-4,null],\"type\":\"scatter\"}],\"name\":\"Merged List_step4\"}]);\n",
              "                        }).then(function(){\n",
              "                            \n",
              "var gd = document.getElementById('37f0bf67-822e-4c71-aff6-cf94d8cba1ad');\n",
              "var x = new MutationObserver(function (mutations, observer) {{\n",
              "        var display = window.getComputedStyle(gd).display;\n",
              "        if (!display || display === 'none') {{\n",
              "            console.log([gd, 'removed!']);\n",
              "            Plotly.purge(gd);\n",
              "            observer.disconnect();\n",
              "        }}\n",
              "}});\n",
              "\n",
              "// Listen for the removal of the full notebook cells\n",
              "var notebookContainer = gd.closest('#notebook-container');\n",
              "if (notebookContainer) {{\n",
              "    x.observe(notebookContainer, {childList: true});\n",
              "}}\n",
              "\n",
              "// Listen for the clearing of the current output cell\n",
              "var outputEl = gd.closest('.output');\n",
              "if (outputEl) {{\n",
              "    x.observe(outputEl, {childList: true});\n",
              "}}\n",
              "\n",
              "                        })                };                            </script>        </div>\n",
              "</body>\n",
              "</html>"
            ]
          },
          "metadata": {}
        }
      ]
    },
    {
      "cell_type": "markdown",
      "source": [
        "## Hashmap 🗺️"
      ],
      "metadata": {
        "id": "Rgnf93ypCqFM"
      }
    },
    {
      "cell_type": "markdown",
      "source": [
        "### Function ⚙️"
      ],
      "metadata": {
        "id": "fflPhZMxiBEo"
      }
    },
    {
      "cell_type": "code",
      "source": [
        "def create_hashmap(pairs):\n",
        "    hashmap = {}\n",
        "    for key, value in pairs:\n",
        "        hashmap[key] = value\n",
        "    return hashmap\n",
        "\n",
        "def get_value(hashmap, key):\n",
        "    return hashmap.get(key, \"Key not found\")"
      ],
      "metadata": {
        "id": "KnxTb9yoCr6r"
      },
      "execution_count": null,
      "outputs": []
    },
    {
      "cell_type": "markdown",
      "source": [
        "### Test ✅"
      ],
      "metadata": {
        "id": "qL90NpFuiDn5"
      }
    },
    {
      "cell_type": "code",
      "source": [
        "pairs = [(\"a\", 1), (\"b\", 2), (\"c\", 3)]\n",
        "hashmap = create_hashmap(pairs)\n",
        "\n",
        "print(get_value(hashmap, \"b\"))\n",
        "print(get_value(hashmap, \"z\"))"
      ],
      "metadata": {
        "colab": {
          "base_uri": "https://localhost:8080/"
        },
        "id": "bAfT5KmrFvDo",
        "outputId": "e395d2d5-c45c-499c-dff3-31a7f3a76a2f"
      },
      "execution_count": null,
      "outputs": [
        {
          "output_type": "stream",
          "name": "stdout",
          "text": [
            "2\n",
            "Key not found\n"
          ]
        }
      ]
    },
    {
      "cell_type": "markdown",
      "source": [
        "### Viz 📊"
      ],
      "metadata": {
        "id": "Zbkb_CgJiFbo"
      }
    },
    {
      "cell_type": "code",
      "source": [
        "import plotly.graph_objects as go\n",
        "import time\n",
        "\n",
        "def visualize_hashmap_with_animation(pairs, lookup_key):\n",
        "    hashmap = {}\n",
        "    frames = []\n",
        "\n",
        "    for i, (key, value) in enumerate(pairs):\n",
        "        hashmap[key] = value\n",
        "        keys = list(hashmap.keys())\n",
        "        values = list(hashmap.values())\n",
        "\n",
        "        frames.append(\n",
        "            go.Frame(\n",
        "                data=[\n",
        "                    go.Table(\n",
        "                        header=dict(\n",
        "                            values=[\"Key\", \"Value\"],\n",
        "                            align=\"center\",\n",
        "                            font=dict(size=14, color=\"white\"),\n",
        "                            fill_color=\"black\",\n",
        "                        ),\n",
        "                        cells=dict(\n",
        "                            values=[keys, values],\n",
        "                            align=\"center\",\n",
        "                            fill_color=\"lightblue\",\n",
        "                            font=dict(size=12),\n",
        "                        ),\n",
        "                    )\n",
        "                ],\n",
        "                layout=go.Layout(title=f\"Step {i + 1}: Added {key} -> {value}\")\n",
        "            )\n",
        "        )\n",
        "\n",
        "    if lookup_key in hashmap:\n",
        "        result = f\"Found: {lookup_key} -> {hashmap[lookup_key]}\"\n",
        "        highlight_color = \"lightgreen\"\n",
        "    else:\n",
        "        result = f\"Key '{lookup_key}' not found\"\n",
        "        highlight_color = \"red\"\n",
        "\n",
        "    frames.append(\n",
        "        go.Frame(\n",
        "            data=[\n",
        "                go.Table(\n",
        "                    header=dict(\n",
        "                        values=[\"Key\", \"Value\"],\n",
        "                        align=\"center\",\n",
        "                        font=dict(size=14, color=\"white\"),\n",
        "                        fill_color=\"black\",\n",
        "                    ),\n",
        "                    cells=dict(\n",
        "                        values=[list(hashmap.keys()), list(hashmap.values())],\n",
        "                        align=\"center\",\n",
        "                        fill_color=[\n",
        "                            [highlight_color if key == lookup_key else \"lightblue\" for key in hashmap.keys()],\n",
        "                            \"lightblue\",\n",
        "                        ],\n",
        "                        font=dict(size=12),\n",
        "                    ),\n",
        "                )\n",
        "            ],\n",
        "            layout=go.Layout(title=result)\n",
        "        )\n",
        "    )\n",
        "\n",
        "    fig = go.Figure(\n",
        "        data=[\n",
        "            go.Table(\n",
        "                header=dict(\n",
        "                    values=[\"Key\", \"Value\"],\n",
        "                    align=\"center\",\n",
        "                    font=dict(size=14, color=\"white\"),\n",
        "                    fill_color=\"black\",\n",
        "                ),\n",
        "                cells=dict(\n",
        "                    values=[[], []],\n",
        "                    align=\"center\",\n",
        "                    fill_color=\"lightblue\",\n",
        "                    font=dict(size=12),\n",
        "                ),\n",
        "            )\n",
        "        ],\n",
        "        layout=go.Layout(\n",
        "            title=\"Building HashMap...\",\n",
        "            width=650,\n",
        "            plot_bgcolor=\"grey\",\n",
        "            paper_bgcolor=\"black\",\n",
        "            font=dict(color=\"blue\"),\n",
        "            updatemenus=[\n",
        "                {\n",
        "                    \"buttons\": [\n",
        "                        {\n",
        "                            \"args\": [None, {\"frame\": {\"duration\": 800, \"redraw\": True}, \"fromcurrent\": True}],\n",
        "                            \"label\": \"Play\",\n",
        "                            \"method\": \"animate\",\n",
        "                        },\n",
        "                        {\n",
        "                            \"args\": [[None], {\"frame\": {\"duration\": 0, \"redraw\": True}, \"mode\": \"immediate\"}],\n",
        "                            \"label\": \"Pause\",\n",
        "                            \"method\": \"animate\",\n",
        "                        },\n",
        "                    ],\n",
        "                    \"direction\": \"left\",\n",
        "                    \"pad\": {\"r\": 10, \"t\": 87},\n",
        "                    \"showactive\": False,\n",
        "                    \"type\": \"buttons\",\n",
        "                    \"x\": 0.1,\n",
        "                    \"xanchor\": \"right\",\n",
        "                    \"y\": 0,\n",
        "                    \"yanchor\": \"top\",\n",
        "                }\n",
        "            ],\n",
        "        ),\n",
        "        frames=frames,\n",
        "    )\n",
        "\n",
        "    fig.show()\n",
        "\n",
        "pairs = [(chr(97 + i), i + 1) for i in range(10)]\n",
        "lookup_key = input(f\"Choose a target key: \")\n",
        "visualize_hashmap_with_animation(pairs, lookup_key)\n"
      ],
      "metadata": {
        "colab": {
          "base_uri": "https://localhost:8080/",
          "height": 560
        },
        "id": "_R_XRkhZiNsR",
        "outputId": "a0ec7546-21d9-471b-f0cd-e21db7710a11"
      },
      "execution_count": null,
      "outputs": [
        {
          "name": "stdout",
          "output_type": "stream",
          "text": [
            "Choose a target key: c\n"
          ]
        },
        {
          "output_type": "display_data",
          "data": {
            "text/html": [
              "<html>\n",
              "<head><meta charset=\"utf-8\" /></head>\n",
              "<body>\n",
              "    <div>            <script src=\"https://cdnjs.cloudflare.com/ajax/libs/mathjax/2.7.5/MathJax.js?config=TeX-AMS-MML_SVG\"></script><script type=\"text/javascript\">if (window.MathJax && window.MathJax.Hub && window.MathJax.Hub.Config) {window.MathJax.Hub.Config({SVG: {font: \"STIX-Web\"}});}</script>                <script type=\"text/javascript\">window.PlotlyConfig = {MathJaxConfig: 'local'};</script>\n",
              "        <script charset=\"utf-8\" src=\"https://cdn.plot.ly/plotly-2.35.2.min.js\"></script>                <div id=\"aa3f8f45-0fc0-43b8-800c-a8449cfd0fed\" class=\"plotly-graph-div\" style=\"height:525px; width:650px;\"></div>            <script type=\"text/javascript\">                                    window.PLOTLYENV=window.PLOTLYENV || {};                                    if (document.getElementById(\"aa3f8f45-0fc0-43b8-800c-a8449cfd0fed\")) {                    Plotly.newPlot(                        \"aa3f8f45-0fc0-43b8-800c-a8449cfd0fed\",                        [{\"cells\":{\"align\":\"center\",\"fill\":{\"color\":\"lightblue\"},\"font\":{\"size\":12},\"values\":[[],[]]},\"header\":{\"align\":\"center\",\"fill\":{\"color\":\"black\"},\"font\":{\"color\":\"white\",\"size\":14},\"values\":[\"Key\",\"Value\"]},\"type\":\"table\"}],                        {\"font\":{\"color\":\"blue\"},\"paper_bgcolor\":\"black\",\"plot_bgcolor\":\"grey\",\"title\":{\"text\":\"Building HashMap...\"},\"updatemenus\":[{\"buttons\":[{\"args\":[null,{\"frame\":{\"duration\":800,\"redraw\":true},\"fromcurrent\":true}],\"label\":\"Play\",\"method\":\"animate\"},{\"args\":[[null],{\"frame\":{\"duration\":0,\"redraw\":true},\"mode\":\"immediate\"}],\"label\":\"Pause\",\"method\":\"animate\"}],\"direction\":\"left\",\"pad\":{\"r\":10,\"t\":87},\"showactive\":false,\"type\":\"buttons\",\"x\":0.1,\"xanchor\":\"right\",\"y\":0,\"yanchor\":\"top\"}],\"width\":650,\"template\":{\"data\":{\"histogram2dcontour\":[{\"type\":\"histogram2dcontour\",\"colorbar\":{\"outlinewidth\":0,\"ticks\":\"\"},\"colorscale\":[[0.0,\"#0d0887\"],[0.1111111111111111,\"#46039f\"],[0.2222222222222222,\"#7201a8\"],[0.3333333333333333,\"#9c179e\"],[0.4444444444444444,\"#bd3786\"],[0.5555555555555556,\"#d8576b\"],[0.6666666666666666,\"#ed7953\"],[0.7777777777777778,\"#fb9f3a\"],[0.8888888888888888,\"#fdca26\"],[1.0,\"#f0f921\"]]}],\"choropleth\":[{\"type\":\"choropleth\",\"colorbar\":{\"outlinewidth\":0,\"ticks\":\"\"}}],\"histogram2d\":[{\"type\":\"histogram2d\",\"colorbar\":{\"outlinewidth\":0,\"ticks\":\"\"},\"colorscale\":[[0.0,\"#0d0887\"],[0.1111111111111111,\"#46039f\"],[0.2222222222222222,\"#7201a8\"],[0.3333333333333333,\"#9c179e\"],[0.4444444444444444,\"#bd3786\"],[0.5555555555555556,\"#d8576b\"],[0.6666666666666666,\"#ed7953\"],[0.7777777777777778,\"#fb9f3a\"],[0.8888888888888888,\"#fdca26\"],[1.0,\"#f0f921\"]]}],\"heatmap\":[{\"type\":\"heatmap\",\"colorbar\":{\"outlinewidth\":0,\"ticks\":\"\"},\"colorscale\":[[0.0,\"#0d0887\"],[0.1111111111111111,\"#46039f\"],[0.2222222222222222,\"#7201a8\"],[0.3333333333333333,\"#9c179e\"],[0.4444444444444444,\"#bd3786\"],[0.5555555555555556,\"#d8576b\"],[0.6666666666666666,\"#ed7953\"],[0.7777777777777778,\"#fb9f3a\"],[0.8888888888888888,\"#fdca26\"],[1.0,\"#f0f921\"]]}],\"heatmapgl\":[{\"type\":\"heatmapgl\",\"colorbar\":{\"outlinewidth\":0,\"ticks\":\"\"},\"colorscale\":[[0.0,\"#0d0887\"],[0.1111111111111111,\"#46039f\"],[0.2222222222222222,\"#7201a8\"],[0.3333333333333333,\"#9c179e\"],[0.4444444444444444,\"#bd3786\"],[0.5555555555555556,\"#d8576b\"],[0.6666666666666666,\"#ed7953\"],[0.7777777777777778,\"#fb9f3a\"],[0.8888888888888888,\"#fdca26\"],[1.0,\"#f0f921\"]]}],\"contourcarpet\":[{\"type\":\"contourcarpet\",\"colorbar\":{\"outlinewidth\":0,\"ticks\":\"\"}}],\"contour\":[{\"type\":\"contour\",\"colorbar\":{\"outlinewidth\":0,\"ticks\":\"\"},\"colorscale\":[[0.0,\"#0d0887\"],[0.1111111111111111,\"#46039f\"],[0.2222222222222222,\"#7201a8\"],[0.3333333333333333,\"#9c179e\"],[0.4444444444444444,\"#bd3786\"],[0.5555555555555556,\"#d8576b\"],[0.6666666666666666,\"#ed7953\"],[0.7777777777777778,\"#fb9f3a\"],[0.8888888888888888,\"#fdca26\"],[1.0,\"#f0f921\"]]}],\"surface\":[{\"type\":\"surface\",\"colorbar\":{\"outlinewidth\":0,\"ticks\":\"\"},\"colorscale\":[[0.0,\"#0d0887\"],[0.1111111111111111,\"#46039f\"],[0.2222222222222222,\"#7201a8\"],[0.3333333333333333,\"#9c179e\"],[0.4444444444444444,\"#bd3786\"],[0.5555555555555556,\"#d8576b\"],[0.6666666666666666,\"#ed7953\"],[0.7777777777777778,\"#fb9f3a\"],[0.8888888888888888,\"#fdca26\"],[1.0,\"#f0f921\"]]}],\"mesh3d\":[{\"type\":\"mesh3d\",\"colorbar\":{\"outlinewidth\":0,\"ticks\":\"\"}}],\"scatter\":[{\"fillpattern\":{\"fillmode\":\"overlay\",\"size\":10,\"solidity\":0.2},\"type\":\"scatter\"}],\"parcoords\":[{\"type\":\"parcoords\",\"line\":{\"colorbar\":{\"outlinewidth\":0,\"ticks\":\"\"}}}],\"scatterpolargl\":[{\"type\":\"scatterpolargl\",\"marker\":{\"colorbar\":{\"outlinewidth\":0,\"ticks\":\"\"}}}],\"bar\":[{\"error_x\":{\"color\":\"#2a3f5f\"},\"error_y\":{\"color\":\"#2a3f5f\"},\"marker\":{\"line\":{\"color\":\"#E5ECF6\",\"width\":0.5},\"pattern\":{\"fillmode\":\"overlay\",\"size\":10,\"solidity\":0.2}},\"type\":\"bar\"}],\"scattergeo\":[{\"type\":\"scattergeo\",\"marker\":{\"colorbar\":{\"outlinewidth\":0,\"ticks\":\"\"}}}],\"scatterpolar\":[{\"type\":\"scatterpolar\",\"marker\":{\"colorbar\":{\"outlinewidth\":0,\"ticks\":\"\"}}}],\"histogram\":[{\"marker\":{\"pattern\":{\"fillmode\":\"overlay\",\"size\":10,\"solidity\":0.2}},\"type\":\"histogram\"}],\"scattergl\":[{\"type\":\"scattergl\",\"marker\":{\"colorbar\":{\"outlinewidth\":0,\"ticks\":\"\"}}}],\"scatter3d\":[{\"type\":\"scatter3d\",\"line\":{\"colorbar\":{\"outlinewidth\":0,\"ticks\":\"\"}},\"marker\":{\"colorbar\":{\"outlinewidth\":0,\"ticks\":\"\"}}}],\"scattermapbox\":[{\"type\":\"scattermapbox\",\"marker\":{\"colorbar\":{\"outlinewidth\":0,\"ticks\":\"\"}}}],\"scatterternary\":[{\"type\":\"scatterternary\",\"marker\":{\"colorbar\":{\"outlinewidth\":0,\"ticks\":\"\"}}}],\"scattercarpet\":[{\"type\":\"scattercarpet\",\"marker\":{\"colorbar\":{\"outlinewidth\":0,\"ticks\":\"\"}}}],\"carpet\":[{\"aaxis\":{\"endlinecolor\":\"#2a3f5f\",\"gridcolor\":\"white\",\"linecolor\":\"white\",\"minorgridcolor\":\"white\",\"startlinecolor\":\"#2a3f5f\"},\"baxis\":{\"endlinecolor\":\"#2a3f5f\",\"gridcolor\":\"white\",\"linecolor\":\"white\",\"minorgridcolor\":\"white\",\"startlinecolor\":\"#2a3f5f\"},\"type\":\"carpet\"}],\"table\":[{\"cells\":{\"fill\":{\"color\":\"#EBF0F8\"},\"line\":{\"color\":\"white\"}},\"header\":{\"fill\":{\"color\":\"#C8D4E3\"},\"line\":{\"color\":\"white\"}},\"type\":\"table\"}],\"barpolar\":[{\"marker\":{\"line\":{\"color\":\"#E5ECF6\",\"width\":0.5},\"pattern\":{\"fillmode\":\"overlay\",\"size\":10,\"solidity\":0.2}},\"type\":\"barpolar\"}],\"pie\":[{\"automargin\":true,\"type\":\"pie\"}]},\"layout\":{\"autotypenumbers\":\"strict\",\"colorway\":[\"#636efa\",\"#EF553B\",\"#00cc96\",\"#ab63fa\",\"#FFA15A\",\"#19d3f3\",\"#FF6692\",\"#B6E880\",\"#FF97FF\",\"#FECB52\"],\"font\":{\"color\":\"#2a3f5f\"},\"hovermode\":\"closest\",\"hoverlabel\":{\"align\":\"left\"},\"paper_bgcolor\":\"white\",\"plot_bgcolor\":\"#E5ECF6\",\"polar\":{\"bgcolor\":\"#E5ECF6\",\"angularaxis\":{\"gridcolor\":\"white\",\"linecolor\":\"white\",\"ticks\":\"\"},\"radialaxis\":{\"gridcolor\":\"white\",\"linecolor\":\"white\",\"ticks\":\"\"}},\"ternary\":{\"bgcolor\":\"#E5ECF6\",\"aaxis\":{\"gridcolor\":\"white\",\"linecolor\":\"white\",\"ticks\":\"\"},\"baxis\":{\"gridcolor\":\"white\",\"linecolor\":\"white\",\"ticks\":\"\"},\"caxis\":{\"gridcolor\":\"white\",\"linecolor\":\"white\",\"ticks\":\"\"}},\"coloraxis\":{\"colorbar\":{\"outlinewidth\":0,\"ticks\":\"\"}},\"colorscale\":{\"sequential\":[[0.0,\"#0d0887\"],[0.1111111111111111,\"#46039f\"],[0.2222222222222222,\"#7201a8\"],[0.3333333333333333,\"#9c179e\"],[0.4444444444444444,\"#bd3786\"],[0.5555555555555556,\"#d8576b\"],[0.6666666666666666,\"#ed7953\"],[0.7777777777777778,\"#fb9f3a\"],[0.8888888888888888,\"#fdca26\"],[1.0,\"#f0f921\"]],\"sequentialminus\":[[0.0,\"#0d0887\"],[0.1111111111111111,\"#46039f\"],[0.2222222222222222,\"#7201a8\"],[0.3333333333333333,\"#9c179e\"],[0.4444444444444444,\"#bd3786\"],[0.5555555555555556,\"#d8576b\"],[0.6666666666666666,\"#ed7953\"],[0.7777777777777778,\"#fb9f3a\"],[0.8888888888888888,\"#fdca26\"],[1.0,\"#f0f921\"]],\"diverging\":[[0,\"#8e0152\"],[0.1,\"#c51b7d\"],[0.2,\"#de77ae\"],[0.3,\"#f1b6da\"],[0.4,\"#fde0ef\"],[0.5,\"#f7f7f7\"],[0.6,\"#e6f5d0\"],[0.7,\"#b8e186\"],[0.8,\"#7fbc41\"],[0.9,\"#4d9221\"],[1,\"#276419\"]]},\"xaxis\":{\"gridcolor\":\"white\",\"linecolor\":\"white\",\"ticks\":\"\",\"title\":{\"standoff\":15},\"zerolinecolor\":\"white\",\"automargin\":true,\"zerolinewidth\":2},\"yaxis\":{\"gridcolor\":\"white\",\"linecolor\":\"white\",\"ticks\":\"\",\"title\":{\"standoff\":15},\"zerolinecolor\":\"white\",\"automargin\":true,\"zerolinewidth\":2},\"scene\":{\"xaxis\":{\"backgroundcolor\":\"#E5ECF6\",\"gridcolor\":\"white\",\"linecolor\":\"white\",\"showbackground\":true,\"ticks\":\"\",\"zerolinecolor\":\"white\",\"gridwidth\":2},\"yaxis\":{\"backgroundcolor\":\"#E5ECF6\",\"gridcolor\":\"white\",\"linecolor\":\"white\",\"showbackground\":true,\"ticks\":\"\",\"zerolinecolor\":\"white\",\"gridwidth\":2},\"zaxis\":{\"backgroundcolor\":\"#E5ECF6\",\"gridcolor\":\"white\",\"linecolor\":\"white\",\"showbackground\":true,\"ticks\":\"\",\"zerolinecolor\":\"white\",\"gridwidth\":2}},\"shapedefaults\":{\"line\":{\"color\":\"#2a3f5f\"}},\"annotationdefaults\":{\"arrowcolor\":\"#2a3f5f\",\"arrowhead\":0,\"arrowwidth\":1},\"geo\":{\"bgcolor\":\"white\",\"landcolor\":\"#E5ECF6\",\"subunitcolor\":\"white\",\"showland\":true,\"showlakes\":true,\"lakecolor\":\"white\"},\"title\":{\"x\":0.05},\"mapbox\":{\"style\":\"light\"}}}},                        {\"responsive\": true}                    ).then(function(){\n",
              "                            Plotly.addFrames('aa3f8f45-0fc0-43b8-800c-a8449cfd0fed', [{\"data\":[{\"cells\":{\"align\":\"center\",\"fill\":{\"color\":\"lightblue\"},\"font\":{\"size\":12},\"values\":[[\"a\"],[1]]},\"header\":{\"align\":\"center\",\"fill\":{\"color\":\"black\"},\"font\":{\"color\":\"white\",\"size\":14},\"values\":[\"Key\",\"Value\"]},\"type\":\"table\"}],\"layout\":{\"title\":{\"text\":\"Step 1: Added a -\\u003e 1\"}}},{\"data\":[{\"cells\":{\"align\":\"center\",\"fill\":{\"color\":\"lightblue\"},\"font\":{\"size\":12},\"values\":[[\"a\",\"b\"],[1,2]]},\"header\":{\"align\":\"center\",\"fill\":{\"color\":\"black\"},\"font\":{\"color\":\"white\",\"size\":14},\"values\":[\"Key\",\"Value\"]},\"type\":\"table\"}],\"layout\":{\"title\":{\"text\":\"Step 2: Added b -\\u003e 2\"}}},{\"data\":[{\"cells\":{\"align\":\"center\",\"fill\":{\"color\":\"lightblue\"},\"font\":{\"size\":12},\"values\":[[\"a\",\"b\",\"c\"],[1,2,3]]},\"header\":{\"align\":\"center\",\"fill\":{\"color\":\"black\"},\"font\":{\"color\":\"white\",\"size\":14},\"values\":[\"Key\",\"Value\"]},\"type\":\"table\"}],\"layout\":{\"title\":{\"text\":\"Step 3: Added c -\\u003e 3\"}}},{\"data\":[{\"cells\":{\"align\":\"center\",\"fill\":{\"color\":\"lightblue\"},\"font\":{\"size\":12},\"values\":[[\"a\",\"b\",\"c\",\"d\"],[1,2,3,4]]},\"header\":{\"align\":\"center\",\"fill\":{\"color\":\"black\"},\"font\":{\"color\":\"white\",\"size\":14},\"values\":[\"Key\",\"Value\"]},\"type\":\"table\"}],\"layout\":{\"title\":{\"text\":\"Step 4: Added d -\\u003e 4\"}}},{\"data\":[{\"cells\":{\"align\":\"center\",\"fill\":{\"color\":\"lightblue\"},\"font\":{\"size\":12},\"values\":[[\"a\",\"b\",\"c\",\"d\",\"e\"],[1,2,3,4,5]]},\"header\":{\"align\":\"center\",\"fill\":{\"color\":\"black\"},\"font\":{\"color\":\"white\",\"size\":14},\"values\":[\"Key\",\"Value\"]},\"type\":\"table\"}],\"layout\":{\"title\":{\"text\":\"Step 5: Added e -\\u003e 5\"}}},{\"data\":[{\"cells\":{\"align\":\"center\",\"fill\":{\"color\":\"lightblue\"},\"font\":{\"size\":12},\"values\":[[\"a\",\"b\",\"c\",\"d\",\"e\",\"f\"],[1,2,3,4,5,6]]},\"header\":{\"align\":\"center\",\"fill\":{\"color\":\"black\"},\"font\":{\"color\":\"white\",\"size\":14},\"values\":[\"Key\",\"Value\"]},\"type\":\"table\"}],\"layout\":{\"title\":{\"text\":\"Step 6: Added f -\\u003e 6\"}}},{\"data\":[{\"cells\":{\"align\":\"center\",\"fill\":{\"color\":\"lightblue\"},\"font\":{\"size\":12},\"values\":[[\"a\",\"b\",\"c\",\"d\",\"e\",\"f\",\"g\"],[1,2,3,4,5,6,7]]},\"header\":{\"align\":\"center\",\"fill\":{\"color\":\"black\"},\"font\":{\"color\":\"white\",\"size\":14},\"values\":[\"Key\",\"Value\"]},\"type\":\"table\"}],\"layout\":{\"title\":{\"text\":\"Step 7: Added g -\\u003e 7\"}}},{\"data\":[{\"cells\":{\"align\":\"center\",\"fill\":{\"color\":\"lightblue\"},\"font\":{\"size\":12},\"values\":[[\"a\",\"b\",\"c\",\"d\",\"e\",\"f\",\"g\",\"h\"],[1,2,3,4,5,6,7,8]]},\"header\":{\"align\":\"center\",\"fill\":{\"color\":\"black\"},\"font\":{\"color\":\"white\",\"size\":14},\"values\":[\"Key\",\"Value\"]},\"type\":\"table\"}],\"layout\":{\"title\":{\"text\":\"Step 8: Added h -\\u003e 8\"}}},{\"data\":[{\"cells\":{\"align\":\"center\",\"fill\":{\"color\":\"lightblue\"},\"font\":{\"size\":12},\"values\":[[\"a\",\"b\",\"c\",\"d\",\"e\",\"f\",\"g\",\"h\",\"i\"],[1,2,3,4,5,6,7,8,9]]},\"header\":{\"align\":\"center\",\"fill\":{\"color\":\"black\"},\"font\":{\"color\":\"white\",\"size\":14},\"values\":[\"Key\",\"Value\"]},\"type\":\"table\"}],\"layout\":{\"title\":{\"text\":\"Step 9: Added i -\\u003e 9\"}}},{\"data\":[{\"cells\":{\"align\":\"center\",\"fill\":{\"color\":\"lightblue\"},\"font\":{\"size\":12},\"values\":[[\"a\",\"b\",\"c\",\"d\",\"e\",\"f\",\"g\",\"h\",\"i\",\"j\"],[1,2,3,4,5,6,7,8,9,10]]},\"header\":{\"align\":\"center\",\"fill\":{\"color\":\"black\"},\"font\":{\"color\":\"white\",\"size\":14},\"values\":[\"Key\",\"Value\"]},\"type\":\"table\"}],\"layout\":{\"title\":{\"text\":\"Step 10: Added j -\\u003e 10\"}}},{\"data\":[{\"cells\":{\"align\":\"center\",\"fill\":{\"color\":[[\"lightblue\",\"lightblue\",\"lightgreen\",\"lightblue\",\"lightblue\",\"lightblue\",\"lightblue\",\"lightblue\",\"lightblue\",\"lightblue\"],\"lightblue\"]},\"font\":{\"size\":12},\"values\":[[\"a\",\"b\",\"c\",\"d\",\"e\",\"f\",\"g\",\"h\",\"i\",\"j\"],[1,2,3,4,5,6,7,8,9,10]]},\"header\":{\"align\":\"center\",\"fill\":{\"color\":\"black\"},\"font\":{\"color\":\"white\",\"size\":14},\"values\":[\"Key\",\"Value\"]},\"type\":\"table\"}],\"layout\":{\"title\":{\"text\":\"Found: c -\\u003e 3\"}}}]);\n",
              "                        }).then(function(){\n",
              "                            \n",
              "var gd = document.getElementById('aa3f8f45-0fc0-43b8-800c-a8449cfd0fed');\n",
              "var x = new MutationObserver(function (mutations, observer) {{\n",
              "        var display = window.getComputedStyle(gd).display;\n",
              "        if (!display || display === 'none') {{\n",
              "            console.log([gd, 'removed!']);\n",
              "            Plotly.purge(gd);\n",
              "            observer.disconnect();\n",
              "        }}\n",
              "}});\n",
              "\n",
              "// Listen for the removal of the full notebook cells\n",
              "var notebookContainer = gd.closest('#notebook-container');\n",
              "if (notebookContainer) {{\n",
              "    x.observe(notebookContainer, {childList: true});\n",
              "}}\n",
              "\n",
              "// Listen for the clearing of the current output cell\n",
              "var outputEl = gd.closest('.output');\n",
              "if (outputEl) {{\n",
              "    x.observe(outputEl, {childList: true});\n",
              "}}\n",
              "\n",
              "                        })                };                            </script>        </div>\n",
              "</body>\n",
              "</html>"
            ]
          },
          "metadata": {}
        }
      ]
    },
    {
      "cell_type": "markdown",
      "source": [
        "## Binary Trees 🌲"
      ],
      "metadata": {
        "id": "MtBycR1gqiPk"
      }
    },
    {
      "cell_type": "markdown",
      "source": [
        "### Function ⚙️"
      ],
      "metadata": {
        "id": "sDdT0QB2q7Og"
      }
    },
    {
      "cell_type": "code",
      "source": [
        "from typing import Optional\n",
        "\n",
        "class TreeNode:\n",
        "    def __init__(self, val=0, left=None, right=None):\n",
        "        self.val = val\n",
        "        self.left = left\n",
        "        self.right = right\n",
        "\n",
        "class Solution:\n",
        "    def maxDepth(self, root: Optional[TreeNode]) -> int:\n",
        "        if not root:\n",
        "            return 0\n",
        "        return 1 + max(self.maxDepth(root.left), self.maxDepth(root.right))\n"
      ],
      "metadata": {
        "id": "WQ3HxHR2qlFJ"
      },
      "execution_count": null,
      "outputs": []
    },
    {
      "cell_type": "markdown",
      "source": [
        "### Test ✅"
      ],
      "metadata": {
        "id": "hRBgEDJEq_fh"
      }
    },
    {
      "cell_type": "code",
      "source": [
        "# Input Tree\n",
        "root = TreeNode(1,\n",
        "                TreeNode(2, TreeNode(4, TreeNode(8)), None),\n",
        "                TreeNode(10, TreeNode(12, TreeNode(16), TreeNode(18)), TreeNode(25, TreeNode(30))))\n",
        "\n",
        "# Print the Tree Structure Textually\n",
        "def print_tree(node, level=0, prefix=\"Root: \"):\n",
        "    if node:\n",
        "        print(\" \" * (4 * level) + prefix + str(node.val))\n",
        "        if node.left or node.right:\n",
        "            print_tree(node.left, level + 1, \"L--- \")\n",
        "            print_tree(node.right, level + 1, \"R--- \")\n",
        "\n",
        "print(\"Tree Structure:\")\n",
        "print_tree(root)"
      ],
      "metadata": {
        "colab": {
          "base_uri": "https://localhost:8080/"
        },
        "id": "hTW40RnqwGIM",
        "outputId": "ecad8e49-90e3-435a-e8c8-72f679b54ed0"
      },
      "execution_count": null,
      "outputs": [
        {
          "output_type": "stream",
          "name": "stdout",
          "text": [
            "Tree Structure:\n",
            "Root: 1\n",
            "    L--- 2\n",
            "        L--- 4\n",
            "            L--- 8\n",
            "    R--- 10\n",
            "        L--- 12\n",
            "            L--- 16\n",
            "            R--- 18\n",
            "        R--- 25\n",
            "            L--- 30\n"
          ]
        }
      ]
    },
    {
      "cell_type": "markdown",
      "source": [
        "### Viz 📊"
      ],
      "metadata": {
        "id": "Qq593VjuwUT6"
      }
    },
    {
      "cell_type": "code",
      "source": [
        "import plotly.graph_objects as go\n",
        "\n",
        "# Tree Population and Animation Visualization\n",
        "def visualize_tree_animated(root):\n",
        "    if not root:\n",
        "        return \"Tree is empty.\"\n",
        "\n",
        "    # Nodes and edges for plotting\n",
        "    nodes = []\n",
        "    edges = []\n",
        "\n",
        "    # Recursive function to collect nodes and edges\n",
        "    def collect_tree_data(node, x, y, level=0, parent=None):\n",
        "        if node:\n",
        "            # Add current node\n",
        "            nodes.append((x, y, node.val))\n",
        "            if parent:\n",
        "                edges.append(((parent[0], parent[1]), (x, y)))\n",
        "\n",
        "            # Recurse for left and right children\n",
        "            collect_tree_data(node.left, x - 1 / (2 ** (level + 1)), y - 1, level + 1, (x, y))\n",
        "            collect_tree_data(node.right, x + 1 / (2 ** (level + 1)), y - 1, level + 1, (x, y))\n",
        "\n",
        "    # Collect tree data\n",
        "    collect_tree_data(root, 0, 0)\n",
        "\n",
        "    # Create animation frames\n",
        "    frames = []\n",
        "    for i in range(1, len(nodes) + 1):\n",
        "        frame_nodes = nodes[:i]\n",
        "        frame_edges = edges[:i - 1]\n",
        "\n",
        "        # Add frame\n",
        "        frames.append(go.Frame(\n",
        "            data=[\n",
        "                # Nodes\n",
        "                go.Scatter(\n",
        "                    x=[node[0] for node in frame_nodes],\n",
        "                    y=[node[1] for node in frame_nodes],\n",
        "                    mode='markers+text',\n",
        "                    marker=dict(size=20, color='blue'),\n",
        "                    text=[node[2] for node in frame_nodes],\n",
        "                    textposition='top center',\n",
        "                    name='Nodes'\n",
        "                ),\n",
        "                # Edges\n",
        "                go.Scatter(\n",
        "                    x=[coord[0] for edge in frame_edges for coord in edge],\n",
        "                    y=[coord[1] for edge in frame_edges for coord in edge],\n",
        "                    mode='lines',\n",
        "                    line=dict(width=2, color='black'),\n",
        "                    name='Edges'\n",
        "                )\n",
        "            ]\n",
        "        ))\n",
        "\n",
        "    # Initial figure setup\n",
        "    fig = go.Figure(\n",
        "        data=[\n",
        "            go.Scatter(x=[], y=[], mode='markers+text', marker=dict(size=20, color='blue'), text=[]),\n",
        "            go.Scatter(x=[], y=[], mode='lines', line=dict(width=2, color='black'))\n",
        "        ],\n",
        "        layout=go.Layout(\n",
        "            title=\"Dynamic Tree Visualization\",\n",
        "            xaxis=dict(range=[-1.5, 1.5], zeroline=False),\n",
        "            yaxis=dict(range=[-3, 0.5], zeroline=False),\n",
        "            width=650,\n",
        "            height=650,\n",
        "            plot_bgcolor=\"grey\",  # Background of the plot\n",
        "            paper_bgcolor=\"black\",  # Background outside the plot\n",
        "            font=dict(color=\"blue\"),  # Font color for text\n",
        "            showlegend=True,\n",
        "            updatemenus=[{\n",
        "                \"buttons\": [\n",
        "                    {\n",
        "                        \"args\": [None, {\"frame\": {\"duration\": 500, \"redraw\": True}, \"fromcurrent\": True}],\n",
        "                        \"label\": \"Play\",\n",
        "                        \"method\": \"animate\"\n",
        "                    },\n",
        "                    {\n",
        "                        \"args\": [[None], {\"frame\": {\"duration\": 0, \"redraw\": False}, \"mode\": \"immediate\"}],\n",
        "                        \"label\": \"Pause\",\n",
        "                        \"method\": \"animate\"\n",
        "                    }\n",
        "                ],\n",
        "                \"direction\": \"left\",\n",
        "                \"pad\": {\"r\": 10, \"t\": 87},\n",
        "                \"showactive\": False,\n",
        "                \"type\": \"buttons\",\n",
        "                \"x\": 0.1,\n",
        "                \"xanchor\": \"right\",\n",
        "                \"y\": 0,\n",
        "                \"yanchor\": \"top\"\n",
        "            }]\n",
        "        ),\n",
        "        frames=frames\n",
        "    )\n",
        "\n",
        "    fig.show()\n",
        "\n",
        "# Visualize Tree Dynamically\n",
        "visualize_tree_animated(root)\n",
        "\n",
        "# Find the Maximum Depth\n",
        "solution = Solution()\n",
        "depth = solution.maxDepth(root)\n",
        "print(\"\\nMaximum Depth of the Tree:\", depth)\n"
      ],
      "metadata": {
        "colab": {
          "base_uri": "https://localhost:8080/",
          "height": 703
        },
        "id": "-_KsDDaErA3q",
        "outputId": "86c3bef3-acfb-455f-fb5a-495becde5647"
      },
      "execution_count": null,
      "outputs": [
        {
          "output_type": "display_data",
          "data": {
            "text/html": [
              "<html>\n",
              "<head><meta charset=\"utf-8\" /></head>\n",
              "<body>\n",
              "    <div>            <script src=\"https://cdnjs.cloudflare.com/ajax/libs/mathjax/2.7.5/MathJax.js?config=TeX-AMS-MML_SVG\"></script><script type=\"text/javascript\">if (window.MathJax && window.MathJax.Hub && window.MathJax.Hub.Config) {window.MathJax.Hub.Config({SVG: {font: \"STIX-Web\"}});}</script>                <script type=\"text/javascript\">window.PlotlyConfig = {MathJaxConfig: 'local'};</script>\n",
              "        <script charset=\"utf-8\" src=\"https://cdn.plot.ly/plotly-2.35.2.min.js\"></script>                <div id=\"c0cc1316-9a25-4dd7-b3c3-94570f20d588\" class=\"plotly-graph-div\" style=\"height:650px; width:650px;\"></div>            <script type=\"text/javascript\">                                    window.PLOTLYENV=window.PLOTLYENV || {};                                    if (document.getElementById(\"c0cc1316-9a25-4dd7-b3c3-94570f20d588\")) {                    Plotly.newPlot(                        \"c0cc1316-9a25-4dd7-b3c3-94570f20d588\",                        [{\"marker\":{\"color\":\"blue\",\"size\":20},\"mode\":\"markers+text\",\"text\":[],\"x\":[],\"y\":[],\"type\":\"scatter\"},{\"line\":{\"color\":\"black\",\"width\":2},\"mode\":\"lines\",\"x\":[],\"y\":[],\"type\":\"scatter\"}],                        {\"font\":{\"color\":\"blue\"},\"height\":650,\"paper_bgcolor\":\"black\",\"plot_bgcolor\":\"grey\",\"showlegend\":true,\"title\":{\"text\":\"Dynamic Tree Visualization\"},\"updatemenus\":[{\"buttons\":[{\"args\":[null,{\"frame\":{\"duration\":500,\"redraw\":true},\"fromcurrent\":true}],\"label\":\"Play\",\"method\":\"animate\"},{\"args\":[[null],{\"frame\":{\"duration\":0,\"redraw\":false},\"mode\":\"immediate\"}],\"label\":\"Pause\",\"method\":\"animate\"}],\"direction\":\"left\",\"pad\":{\"r\":10,\"t\":87},\"showactive\":false,\"type\":\"buttons\",\"x\":0.1,\"xanchor\":\"right\",\"y\":0,\"yanchor\":\"top\"}],\"width\":650,\"xaxis\":{\"range\":[-1.5,1.5],\"zeroline\":false},\"yaxis\":{\"range\":[-3,0.5],\"zeroline\":false},\"template\":{\"data\":{\"histogram2dcontour\":[{\"type\":\"histogram2dcontour\",\"colorbar\":{\"outlinewidth\":0,\"ticks\":\"\"},\"colorscale\":[[0.0,\"#0d0887\"],[0.1111111111111111,\"#46039f\"],[0.2222222222222222,\"#7201a8\"],[0.3333333333333333,\"#9c179e\"],[0.4444444444444444,\"#bd3786\"],[0.5555555555555556,\"#d8576b\"],[0.6666666666666666,\"#ed7953\"],[0.7777777777777778,\"#fb9f3a\"],[0.8888888888888888,\"#fdca26\"],[1.0,\"#f0f921\"]]}],\"choropleth\":[{\"type\":\"choropleth\",\"colorbar\":{\"outlinewidth\":0,\"ticks\":\"\"}}],\"histogram2d\":[{\"type\":\"histogram2d\",\"colorbar\":{\"outlinewidth\":0,\"ticks\":\"\"},\"colorscale\":[[0.0,\"#0d0887\"],[0.1111111111111111,\"#46039f\"],[0.2222222222222222,\"#7201a8\"],[0.3333333333333333,\"#9c179e\"],[0.4444444444444444,\"#bd3786\"],[0.5555555555555556,\"#d8576b\"],[0.6666666666666666,\"#ed7953\"],[0.7777777777777778,\"#fb9f3a\"],[0.8888888888888888,\"#fdca26\"],[1.0,\"#f0f921\"]]}],\"heatmap\":[{\"type\":\"heatmap\",\"colorbar\":{\"outlinewidth\":0,\"ticks\":\"\"},\"colorscale\":[[0.0,\"#0d0887\"],[0.1111111111111111,\"#46039f\"],[0.2222222222222222,\"#7201a8\"],[0.3333333333333333,\"#9c179e\"],[0.4444444444444444,\"#bd3786\"],[0.5555555555555556,\"#d8576b\"],[0.6666666666666666,\"#ed7953\"],[0.7777777777777778,\"#fb9f3a\"],[0.8888888888888888,\"#fdca26\"],[1.0,\"#f0f921\"]]}],\"heatmapgl\":[{\"type\":\"heatmapgl\",\"colorbar\":{\"outlinewidth\":0,\"ticks\":\"\"},\"colorscale\":[[0.0,\"#0d0887\"],[0.1111111111111111,\"#46039f\"],[0.2222222222222222,\"#7201a8\"],[0.3333333333333333,\"#9c179e\"],[0.4444444444444444,\"#bd3786\"],[0.5555555555555556,\"#d8576b\"],[0.6666666666666666,\"#ed7953\"],[0.7777777777777778,\"#fb9f3a\"],[0.8888888888888888,\"#fdca26\"],[1.0,\"#f0f921\"]]}],\"contourcarpet\":[{\"type\":\"contourcarpet\",\"colorbar\":{\"outlinewidth\":0,\"ticks\":\"\"}}],\"contour\":[{\"type\":\"contour\",\"colorbar\":{\"outlinewidth\":0,\"ticks\":\"\"},\"colorscale\":[[0.0,\"#0d0887\"],[0.1111111111111111,\"#46039f\"],[0.2222222222222222,\"#7201a8\"],[0.3333333333333333,\"#9c179e\"],[0.4444444444444444,\"#bd3786\"],[0.5555555555555556,\"#d8576b\"],[0.6666666666666666,\"#ed7953\"],[0.7777777777777778,\"#fb9f3a\"],[0.8888888888888888,\"#fdca26\"],[1.0,\"#f0f921\"]]}],\"surface\":[{\"type\":\"surface\",\"colorbar\":{\"outlinewidth\":0,\"ticks\":\"\"},\"colorscale\":[[0.0,\"#0d0887\"],[0.1111111111111111,\"#46039f\"],[0.2222222222222222,\"#7201a8\"],[0.3333333333333333,\"#9c179e\"],[0.4444444444444444,\"#bd3786\"],[0.5555555555555556,\"#d8576b\"],[0.6666666666666666,\"#ed7953\"],[0.7777777777777778,\"#fb9f3a\"],[0.8888888888888888,\"#fdca26\"],[1.0,\"#f0f921\"]]}],\"mesh3d\":[{\"type\":\"mesh3d\",\"colorbar\":{\"outlinewidth\":0,\"ticks\":\"\"}}],\"scatter\":[{\"fillpattern\":{\"fillmode\":\"overlay\",\"size\":10,\"solidity\":0.2},\"type\":\"scatter\"}],\"parcoords\":[{\"type\":\"parcoords\",\"line\":{\"colorbar\":{\"outlinewidth\":0,\"ticks\":\"\"}}}],\"scatterpolargl\":[{\"type\":\"scatterpolargl\",\"marker\":{\"colorbar\":{\"outlinewidth\":0,\"ticks\":\"\"}}}],\"bar\":[{\"error_x\":{\"color\":\"#2a3f5f\"},\"error_y\":{\"color\":\"#2a3f5f\"},\"marker\":{\"line\":{\"color\":\"#E5ECF6\",\"width\":0.5},\"pattern\":{\"fillmode\":\"overlay\",\"size\":10,\"solidity\":0.2}},\"type\":\"bar\"}],\"scattergeo\":[{\"type\":\"scattergeo\",\"marker\":{\"colorbar\":{\"outlinewidth\":0,\"ticks\":\"\"}}}],\"scatterpolar\":[{\"type\":\"scatterpolar\",\"marker\":{\"colorbar\":{\"outlinewidth\":0,\"ticks\":\"\"}}}],\"histogram\":[{\"marker\":{\"pattern\":{\"fillmode\":\"overlay\",\"size\":10,\"solidity\":0.2}},\"type\":\"histogram\"}],\"scattergl\":[{\"type\":\"scattergl\",\"marker\":{\"colorbar\":{\"outlinewidth\":0,\"ticks\":\"\"}}}],\"scatter3d\":[{\"type\":\"scatter3d\",\"line\":{\"colorbar\":{\"outlinewidth\":0,\"ticks\":\"\"}},\"marker\":{\"colorbar\":{\"outlinewidth\":0,\"ticks\":\"\"}}}],\"scattermapbox\":[{\"type\":\"scattermapbox\",\"marker\":{\"colorbar\":{\"outlinewidth\":0,\"ticks\":\"\"}}}],\"scatterternary\":[{\"type\":\"scatterternary\",\"marker\":{\"colorbar\":{\"outlinewidth\":0,\"ticks\":\"\"}}}],\"scattercarpet\":[{\"type\":\"scattercarpet\",\"marker\":{\"colorbar\":{\"outlinewidth\":0,\"ticks\":\"\"}}}],\"carpet\":[{\"aaxis\":{\"endlinecolor\":\"#2a3f5f\",\"gridcolor\":\"white\",\"linecolor\":\"white\",\"minorgridcolor\":\"white\",\"startlinecolor\":\"#2a3f5f\"},\"baxis\":{\"endlinecolor\":\"#2a3f5f\",\"gridcolor\":\"white\",\"linecolor\":\"white\",\"minorgridcolor\":\"white\",\"startlinecolor\":\"#2a3f5f\"},\"type\":\"carpet\"}],\"table\":[{\"cells\":{\"fill\":{\"color\":\"#EBF0F8\"},\"line\":{\"color\":\"white\"}},\"header\":{\"fill\":{\"color\":\"#C8D4E3\"},\"line\":{\"color\":\"white\"}},\"type\":\"table\"}],\"barpolar\":[{\"marker\":{\"line\":{\"color\":\"#E5ECF6\",\"width\":0.5},\"pattern\":{\"fillmode\":\"overlay\",\"size\":10,\"solidity\":0.2}},\"type\":\"barpolar\"}],\"pie\":[{\"automargin\":true,\"type\":\"pie\"}]},\"layout\":{\"autotypenumbers\":\"strict\",\"colorway\":[\"#636efa\",\"#EF553B\",\"#00cc96\",\"#ab63fa\",\"#FFA15A\",\"#19d3f3\",\"#FF6692\",\"#B6E880\",\"#FF97FF\",\"#FECB52\"],\"font\":{\"color\":\"#2a3f5f\"},\"hovermode\":\"closest\",\"hoverlabel\":{\"align\":\"left\"},\"paper_bgcolor\":\"white\",\"plot_bgcolor\":\"#E5ECF6\",\"polar\":{\"bgcolor\":\"#E5ECF6\",\"angularaxis\":{\"gridcolor\":\"white\",\"linecolor\":\"white\",\"ticks\":\"\"},\"radialaxis\":{\"gridcolor\":\"white\",\"linecolor\":\"white\",\"ticks\":\"\"}},\"ternary\":{\"bgcolor\":\"#E5ECF6\",\"aaxis\":{\"gridcolor\":\"white\",\"linecolor\":\"white\",\"ticks\":\"\"},\"baxis\":{\"gridcolor\":\"white\",\"linecolor\":\"white\",\"ticks\":\"\"},\"caxis\":{\"gridcolor\":\"white\",\"linecolor\":\"white\",\"ticks\":\"\"}},\"coloraxis\":{\"colorbar\":{\"outlinewidth\":0,\"ticks\":\"\"}},\"colorscale\":{\"sequential\":[[0.0,\"#0d0887\"],[0.1111111111111111,\"#46039f\"],[0.2222222222222222,\"#7201a8\"],[0.3333333333333333,\"#9c179e\"],[0.4444444444444444,\"#bd3786\"],[0.5555555555555556,\"#d8576b\"],[0.6666666666666666,\"#ed7953\"],[0.7777777777777778,\"#fb9f3a\"],[0.8888888888888888,\"#fdca26\"],[1.0,\"#f0f921\"]],\"sequentialminus\":[[0.0,\"#0d0887\"],[0.1111111111111111,\"#46039f\"],[0.2222222222222222,\"#7201a8\"],[0.3333333333333333,\"#9c179e\"],[0.4444444444444444,\"#bd3786\"],[0.5555555555555556,\"#d8576b\"],[0.6666666666666666,\"#ed7953\"],[0.7777777777777778,\"#fb9f3a\"],[0.8888888888888888,\"#fdca26\"],[1.0,\"#f0f921\"]],\"diverging\":[[0,\"#8e0152\"],[0.1,\"#c51b7d\"],[0.2,\"#de77ae\"],[0.3,\"#f1b6da\"],[0.4,\"#fde0ef\"],[0.5,\"#f7f7f7\"],[0.6,\"#e6f5d0\"],[0.7,\"#b8e186\"],[0.8,\"#7fbc41\"],[0.9,\"#4d9221\"],[1,\"#276419\"]]},\"xaxis\":{\"gridcolor\":\"white\",\"linecolor\":\"white\",\"ticks\":\"\",\"title\":{\"standoff\":15},\"zerolinecolor\":\"white\",\"automargin\":true,\"zerolinewidth\":2},\"yaxis\":{\"gridcolor\":\"white\",\"linecolor\":\"white\",\"ticks\":\"\",\"title\":{\"standoff\":15},\"zerolinecolor\":\"white\",\"automargin\":true,\"zerolinewidth\":2},\"scene\":{\"xaxis\":{\"backgroundcolor\":\"#E5ECF6\",\"gridcolor\":\"white\",\"linecolor\":\"white\",\"showbackground\":true,\"ticks\":\"\",\"zerolinecolor\":\"white\",\"gridwidth\":2},\"yaxis\":{\"backgroundcolor\":\"#E5ECF6\",\"gridcolor\":\"white\",\"linecolor\":\"white\",\"showbackground\":true,\"ticks\":\"\",\"zerolinecolor\":\"white\",\"gridwidth\":2},\"zaxis\":{\"backgroundcolor\":\"#E5ECF6\",\"gridcolor\":\"white\",\"linecolor\":\"white\",\"showbackground\":true,\"ticks\":\"\",\"zerolinecolor\":\"white\",\"gridwidth\":2}},\"shapedefaults\":{\"line\":{\"color\":\"#2a3f5f\"}},\"annotationdefaults\":{\"arrowcolor\":\"#2a3f5f\",\"arrowhead\":0,\"arrowwidth\":1},\"geo\":{\"bgcolor\":\"white\",\"landcolor\":\"#E5ECF6\",\"subunitcolor\":\"white\",\"showland\":true,\"showlakes\":true,\"lakecolor\":\"white\"},\"title\":{\"x\":0.05},\"mapbox\":{\"style\":\"light\"}}}},                        {\"responsive\": true}                    ).then(function(){\n",
              "                            Plotly.addFrames('c0cc1316-9a25-4dd7-b3c3-94570f20d588', [{\"data\":[{\"marker\":{\"color\":\"blue\",\"size\":20},\"mode\":\"markers+text\",\"name\":\"Nodes\",\"text\":[\"1\"],\"textposition\":\"top center\",\"x\":[0],\"y\":[0],\"type\":\"scatter\"},{\"line\":{\"color\":\"black\",\"width\":2},\"mode\":\"lines\",\"name\":\"Edges\",\"x\":[],\"y\":[],\"type\":\"scatter\"}]},{\"data\":[{\"marker\":{\"color\":\"blue\",\"size\":20},\"mode\":\"markers+text\",\"name\":\"Nodes\",\"text\":[\"1\",\"2\"],\"textposition\":\"top center\",\"x\":[0,-0.5],\"y\":[0,-1],\"type\":\"scatter\"},{\"line\":{\"color\":\"black\",\"width\":2},\"mode\":\"lines\",\"name\":\"Edges\",\"x\":[0,-0.5],\"y\":[0,-1],\"type\":\"scatter\"}]},{\"data\":[{\"marker\":{\"color\":\"blue\",\"size\":20},\"mode\":\"markers+text\",\"name\":\"Nodes\",\"text\":[\"1\",\"2\",\"4\"],\"textposition\":\"top center\",\"x\":[0,-0.5,-0.75],\"y\":[0,-1,-2],\"type\":\"scatter\"},{\"line\":{\"color\":\"black\",\"width\":2},\"mode\":\"lines\",\"name\":\"Edges\",\"x\":[0,-0.5,-0.5,-0.75],\"y\":[0,-1,-1,-2],\"type\":\"scatter\"}]},{\"data\":[{\"marker\":{\"color\":\"blue\",\"size\":20},\"mode\":\"markers+text\",\"name\":\"Nodes\",\"text\":[\"1\",\"2\",\"4\",\"8\"],\"textposition\":\"top center\",\"x\":[0,-0.5,-0.75,-0.875],\"y\":[0,-1,-2,-3],\"type\":\"scatter\"},{\"line\":{\"color\":\"black\",\"width\":2},\"mode\":\"lines\",\"name\":\"Edges\",\"x\":[0,-0.5,-0.5,-0.75,-0.75,-0.875],\"y\":[0,-1,-1,-2,-2,-3],\"type\":\"scatter\"}]},{\"data\":[{\"marker\":{\"color\":\"blue\",\"size\":20},\"mode\":\"markers+text\",\"name\":\"Nodes\",\"text\":[\"1\",\"2\",\"4\",\"8\",\"10\"],\"textposition\":\"top center\",\"x\":[0,-0.5,-0.75,-0.875,0.5],\"y\":[0,-1,-2,-3,-1],\"type\":\"scatter\"},{\"line\":{\"color\":\"black\",\"width\":2},\"mode\":\"lines\",\"name\":\"Edges\",\"x\":[0,-0.5,-0.5,-0.75,-0.75,-0.875,0,0.5],\"y\":[0,-1,-1,-2,-2,-3,0,-1],\"type\":\"scatter\"}]},{\"data\":[{\"marker\":{\"color\":\"blue\",\"size\":20},\"mode\":\"markers+text\",\"name\":\"Nodes\",\"text\":[\"1\",\"2\",\"4\",\"8\",\"10\",\"12\"],\"textposition\":\"top center\",\"x\":[0,-0.5,-0.75,-0.875,0.5,0.25],\"y\":[0,-1,-2,-3,-1,-2],\"type\":\"scatter\"},{\"line\":{\"color\":\"black\",\"width\":2},\"mode\":\"lines\",\"name\":\"Edges\",\"x\":[0,-0.5,-0.5,-0.75,-0.75,-0.875,0,0.5,0.5,0.25],\"y\":[0,-1,-1,-2,-2,-3,0,-1,-1,-2],\"type\":\"scatter\"}]},{\"data\":[{\"marker\":{\"color\":\"blue\",\"size\":20},\"mode\":\"markers+text\",\"name\":\"Nodes\",\"text\":[\"1\",\"2\",\"4\",\"8\",\"10\",\"12\",\"16\"],\"textposition\":\"top center\",\"x\":[0,-0.5,-0.75,-0.875,0.5,0.25,0.125],\"y\":[0,-1,-2,-3,-1,-2,-3],\"type\":\"scatter\"},{\"line\":{\"color\":\"black\",\"width\":2},\"mode\":\"lines\",\"name\":\"Edges\",\"x\":[0,-0.5,-0.5,-0.75,-0.75,-0.875,0,0.5,0.5,0.25,0.25,0.125],\"y\":[0,-1,-1,-2,-2,-3,0,-1,-1,-2,-2,-3],\"type\":\"scatter\"}]},{\"data\":[{\"marker\":{\"color\":\"blue\",\"size\":20},\"mode\":\"markers+text\",\"name\":\"Nodes\",\"text\":[\"1\",\"2\",\"4\",\"8\",\"10\",\"12\",\"16\",\"18\"],\"textposition\":\"top center\",\"x\":[0,-0.5,-0.75,-0.875,0.5,0.25,0.125,0.375],\"y\":[0,-1,-2,-3,-1,-2,-3,-3],\"type\":\"scatter\"},{\"line\":{\"color\":\"black\",\"width\":2},\"mode\":\"lines\",\"name\":\"Edges\",\"x\":[0,-0.5,-0.5,-0.75,-0.75,-0.875,0,0.5,0.5,0.25,0.25,0.125,0.25,0.375],\"y\":[0,-1,-1,-2,-2,-3,0,-1,-1,-2,-2,-3,-2,-3],\"type\":\"scatter\"}]},{\"data\":[{\"marker\":{\"color\":\"blue\",\"size\":20},\"mode\":\"markers+text\",\"name\":\"Nodes\",\"text\":[\"1\",\"2\",\"4\",\"8\",\"10\",\"12\",\"16\",\"18\",\"25\"],\"textposition\":\"top center\",\"x\":[0,-0.5,-0.75,-0.875,0.5,0.25,0.125,0.375,0.75],\"y\":[0,-1,-2,-3,-1,-2,-3,-3,-2],\"type\":\"scatter\"},{\"line\":{\"color\":\"black\",\"width\":2},\"mode\":\"lines\",\"name\":\"Edges\",\"x\":[0,-0.5,-0.5,-0.75,-0.75,-0.875,0,0.5,0.5,0.25,0.25,0.125,0.25,0.375,0.5,0.75],\"y\":[0,-1,-1,-2,-2,-3,0,-1,-1,-2,-2,-3,-2,-3,-1,-2],\"type\":\"scatter\"}]},{\"data\":[{\"marker\":{\"color\":\"blue\",\"size\":20},\"mode\":\"markers+text\",\"name\":\"Nodes\",\"text\":[\"1\",\"2\",\"4\",\"8\",\"10\",\"12\",\"16\",\"18\",\"25\",\"30\"],\"textposition\":\"top center\",\"x\":[0,-0.5,-0.75,-0.875,0.5,0.25,0.125,0.375,0.75,0.625],\"y\":[0,-1,-2,-3,-1,-2,-3,-3,-2,-3],\"type\":\"scatter\"},{\"line\":{\"color\":\"black\",\"width\":2},\"mode\":\"lines\",\"name\":\"Edges\",\"x\":[0,-0.5,-0.5,-0.75,-0.75,-0.875,0,0.5,0.5,0.25,0.25,0.125,0.25,0.375,0.5,0.75,0.75,0.625],\"y\":[0,-1,-1,-2,-2,-3,0,-1,-1,-2,-2,-3,-2,-3,-1,-2,-2,-3],\"type\":\"scatter\"}]}]);\n",
              "                        }).then(function(){\n",
              "                            \n",
              "var gd = document.getElementById('c0cc1316-9a25-4dd7-b3c3-94570f20d588');\n",
              "var x = new MutationObserver(function (mutations, observer) {{\n",
              "        var display = window.getComputedStyle(gd).display;\n",
              "        if (!display || display === 'none') {{\n",
              "            console.log([gd, 'removed!']);\n",
              "            Plotly.purge(gd);\n",
              "            observer.disconnect();\n",
              "        }}\n",
              "}});\n",
              "\n",
              "// Listen for the removal of the full notebook cells\n",
              "var notebookContainer = gd.closest('#notebook-container');\n",
              "if (notebookContainer) {{\n",
              "    x.observe(notebookContainer, {childList: true});\n",
              "}}\n",
              "\n",
              "// Listen for the clearing of the current output cell\n",
              "var outputEl = gd.closest('.output');\n",
              "if (outputEl) {{\n",
              "    x.observe(outputEl, {childList: true});\n",
              "}}\n",
              "\n",
              "                        })                };                            </script>        </div>\n",
              "</body>\n",
              "</html>"
            ]
          },
          "metadata": {}
        },
        {
          "output_type": "stream",
          "name": "stdout",
          "text": [
            "\n",
            "Maximum Depth of the Tree: 4\n"
          ]
        }
      ]
    },
    {
      "cell_type": "markdown",
      "source": [
        "## Backtracking 👑"
      ],
      "metadata": {
        "id": "d0_lxflFURD9"
      }
    },
    {
      "cell_type": "markdown",
      "source": [
        "### Function ⚙️"
      ],
      "metadata": {
        "id": "xb0z5x_0UYag"
      }
    },
    {
      "cell_type": "markdown",
      "source": [
        "### Test ✅"
      ],
      "metadata": {
        "id": "pu6jKspMUbc5"
      }
    },
    {
      "cell_type": "markdown",
      "source": [
        "### Viz 📊"
      ],
      "metadata": {
        "id": "J04OV618UhB_"
      }
    }
  ]
}